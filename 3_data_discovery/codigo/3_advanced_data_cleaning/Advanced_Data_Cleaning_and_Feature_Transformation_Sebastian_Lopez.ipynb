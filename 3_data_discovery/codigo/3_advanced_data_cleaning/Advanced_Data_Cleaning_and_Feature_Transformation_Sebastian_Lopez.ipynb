{
  "nbformat": 4,
  "nbformat_minor": 0,
  "metadata": {
    "colab": {
      "provenance": []
    },
    "kernelspec": {
      "name": "python3",
      "display_name": "Python 3"
    },
    "language_info": {
      "name": "python"
    }
  },
  "cells": [
    {
      "cell_type": "markdown",
      "source": [
        "<img src=\"https://posgrado.utec.edu.pe/sites/default/files/2023-08/Testimonial-home-2.jpg\" alt=\"HTML5 Icon\" width=\"900\" height=\"250\" >"
      ],
      "metadata": {
        "id": "LbnZWXxeBKu0"
      }
    },
    {
      "cell_type": "markdown",
      "source": [
        "# **Laboratorio: Advanced Data Cleaning and Feature Transformation with House Prices Dataset**\n",
        "\n",
        "---"
      ],
      "metadata": {
        "id": "fCP_Eiq5Bb9f"
      }
    },
    {
      "cell_type": "markdown",
      "source": [
        "## **Objetivo general**\n",
        "\n",
        "Aplicar técnicas avanzadas de limpieza de datos, codificación de variables categóricas, discretización y transformaciones numéricas (incluyendo polinómicas) sobre un dataset real para preparar la información antes del modelado."
      ],
      "metadata": {
        "id": "V8sWvefAB8oc"
      }
    },
    {
      "cell_type": "markdown",
      "source": [
        "\n",
        "## **1. Introducción teórica**\n",
        "\n",
        "En cualquier proyecto de ciencia de datos, **la etapa de preprocesamiento puede ocupar hasta el 80% del tiempo total.** Esto se debe a que los datos rara vez vienen listos para usarse: suelen tener errores, valores faltantes, formatos inconsistentes y escalas incompatibles.\n",
        "\n",
        "\n",
        "La limpieza avanzada no se limita a eliminar nulos o duplicados, sino que abarca tareas más profundas como:\n",
        "\n",
        "\n",
        "- Detectar inconsistencias semánticas (mismo valor escrito de forma distinta).\n",
        "\n",
        "- Estandarizar formatos (fechas, unidades de medida, codificación de texto).\n",
        "\n",
        "- Identificar y tratar outliers que afectan análisis y modelos.\n",
        "\n",
        "- Aplicar transformaciones matemáticas para mejorar la distribución de las variables y la capacidad predictiva de los modelos."
      ],
      "metadata": {
        "id": "IGyeRdpKCCAC"
      }
    },
    {
      "cell_type": "markdown",
      "source": [
        "## **2. Carga y exploración inicial del dataset**\n",
        "\n",
        "Usaremos el dataset House Prices – Advanced Regression Techniques de Kaggle."
      ],
      "metadata": {
        "id": "s6JI-cknCsLM"
      }
    },
    {
      "cell_type": "code",
      "source": [
        "!pip install kaggle -q\n",
        "!pip install category_encoders -q"
      ],
      "metadata": {
        "id": "SnJh4PMdTgtR"
      },
      "execution_count": 162,
      "outputs": []
    },
    {
      "cell_type": "code",
      "source": [
        "import os\n",
        "from google.colab import userdata\n",
        "import pandas as pd\n",
        "import numpy as np\n",
        "import matplotlib.pyplot as plt\n",
        "import seaborn as sns\n",
        "from sklearn.impute import SimpleImputer, KNNImputer\n",
        "from sklearn.preprocessing import KBinsDiscretizer, PolynomialFeatures, LabelEncoder, MinMaxScaler, StandardScaler\n",
        "import category_encoders as ce"
      ],
      "metadata": {
        "id": "dZbLUaGTZ3Am"
      },
      "execution_count": 163,
      "outputs": []
    },
    {
      "cell_type": "code",
      "source": [
        "os.environ[\"KAGGLE_USERNAME\"] = userdata.get('KAGGLE_USERNAME')\n",
        "os.environ[\"KAGGLE_KEY\"] = userdata.get('KAGGLE_KEY')"
      ],
      "metadata": {
        "id": "6HvrlLM-S9bi"
      },
      "execution_count": 164,
      "outputs": []
    },
    {
      "cell_type": "code",
      "source": [
        "COMPETITION_NAME = 'house-prices-advanced-regression-techniques'\n",
        "DATA_DIR = './house-prices'\n",
        "\n",
        "# Descarga los datos de la competencia\n",
        "!kaggle competitions download -c {COMPETITION_NAME}\n",
        "\n",
        "# Crea el directorio de destino y descomprime los archivos\n",
        "!mkdir -p {DATA_DIR}\n",
        "!unzip {COMPETITION_NAME}.zip -d {DATA_DIR}\n",
        "\n",
        "print(f\"Datos descargados y descomprimidos en la carpeta '{DATA_DIR}'\")"
      ],
      "metadata": {
        "colab": {
          "base_uri": "https://localhost:8080/"
        },
        "id": "0De1fGWRUy-a",
        "outputId": "c9917dfa-33bf-4eb6-9365-a3be7d0cae4d"
      },
      "execution_count": 198,
      "outputs": [
        {
          "output_type": "stream",
          "name": "stdout",
          "text": [
            "house-prices-advanced-regression-techniques.zip: Skipping, found more recently modified local copy (use --force to force download)\n",
            "Archive:  house-prices-advanced-regression-techniques.zip\n",
            "replace ./house-prices/data_description.txt? [y]es, [n]o, [A]ll, [N]one, [r]ename: A\n",
            "  inflating: ./house-prices/data_description.txt  \n",
            "  inflating: ./house-prices/sample_submission.csv  \n",
            "  inflating: ./house-prices/test.csv  \n",
            "  inflating: ./house-prices/train.csv  \n",
            "Datos descargados y descomprimidos en la carpeta './house-prices'\n"
          ]
        }
      ]
    },
    {
      "cell_type": "code",
      "source": [
        "print(\"Archivos disponibles:\")\n",
        "!ls {DATA_DIR}\n",
        "\n",
        "# Carga el archivo de entrenamiento en un DataFrame de Pandas\n",
        "try:\n",
        "    df = pd.read_csv(f'{DATA_DIR}/train.csv')\n",
        "    print(\"\\nCarga exitosa.\")\n",
        "except FileNotFoundError:\n",
        "    print(f\"Error: No se encontró el archivo train.csv en el directorio {DATA_DIR}\")"
      ],
      "metadata": {
        "colab": {
          "base_uri": "https://localhost:8080/"
        },
        "id": "1FcFbuJqU51P",
        "outputId": "52756e52-d14a-4f10-9cbd-c5aee8f15a6a"
      },
      "execution_count": 199,
      "outputs": [
        {
          "output_type": "stream",
          "name": "stdout",
          "text": [
            "Archivos disponibles:\n",
            "data_description.txt  sample_submission.csv  test.csv  train.csv\n",
            "\n",
            "Carga exitosa.\n"
          ]
        }
      ]
    },
    {
      "cell_type": "code",
      "source": [
        "df_original = df.copy()"
      ],
      "metadata": {
        "id": "epQCCzITabZi"
      },
      "execution_count": 200,
      "outputs": []
    },
    {
      "cell_type": "code",
      "source": [
        "# Dimensiones y primeras filas\n",
        "print(df.shape)\n",
        "df.head()\n",
        "\n",
        "# Información general\n",
        "df.info()\n",
        "\n",
        "# Resumen estadístico\n",
        "df.describe()\n"
      ],
      "metadata": {
        "id": "CqkwuEg1Cwnq",
        "colab": {
          "base_uri": "https://localhost:8080/",
          "height": 1000
        },
        "outputId": "a77171ed-71ad-4f76-c33c-914776b5a863"
      },
      "execution_count": 201,
      "outputs": [
        {
          "output_type": "stream",
          "name": "stdout",
          "text": [
            "(1460, 81)\n",
            "<class 'pandas.core.frame.DataFrame'>\n",
            "RangeIndex: 1460 entries, 0 to 1459\n",
            "Data columns (total 81 columns):\n",
            " #   Column         Non-Null Count  Dtype  \n",
            "---  ------         --------------  -----  \n",
            " 0   Id             1460 non-null   int64  \n",
            " 1   MSSubClass     1460 non-null   int64  \n",
            " 2   MSZoning       1460 non-null   object \n",
            " 3   LotFrontage    1201 non-null   float64\n",
            " 4   LotArea        1460 non-null   int64  \n",
            " 5   Street         1460 non-null   object \n",
            " 6   Alley          91 non-null     object \n",
            " 7   LotShape       1460 non-null   object \n",
            " 8   LandContour    1460 non-null   object \n",
            " 9   Utilities      1460 non-null   object \n",
            " 10  LotConfig      1460 non-null   object \n",
            " 11  LandSlope      1460 non-null   object \n",
            " 12  Neighborhood   1460 non-null   object \n",
            " 13  Condition1     1460 non-null   object \n",
            " 14  Condition2     1460 non-null   object \n",
            " 15  BldgType       1460 non-null   object \n",
            " 16  HouseStyle     1460 non-null   object \n",
            " 17  OverallQual    1460 non-null   int64  \n",
            " 18  OverallCond    1460 non-null   int64  \n",
            " 19  YearBuilt      1460 non-null   int64  \n",
            " 20  YearRemodAdd   1460 non-null   int64  \n",
            " 21  RoofStyle      1460 non-null   object \n",
            " 22  RoofMatl       1460 non-null   object \n",
            " 23  Exterior1st    1460 non-null   object \n",
            " 24  Exterior2nd    1460 non-null   object \n",
            " 25  MasVnrType     588 non-null    object \n",
            " 26  MasVnrArea     1452 non-null   float64\n",
            " 27  ExterQual      1460 non-null   object \n",
            " 28  ExterCond      1460 non-null   object \n",
            " 29  Foundation     1460 non-null   object \n",
            " 30  BsmtQual       1423 non-null   object \n",
            " 31  BsmtCond       1423 non-null   object \n",
            " 32  BsmtExposure   1422 non-null   object \n",
            " 33  BsmtFinType1   1423 non-null   object \n",
            " 34  BsmtFinSF1     1460 non-null   int64  \n",
            " 35  BsmtFinType2   1422 non-null   object \n",
            " 36  BsmtFinSF2     1460 non-null   int64  \n",
            " 37  BsmtUnfSF      1460 non-null   int64  \n",
            " 38  TotalBsmtSF    1460 non-null   int64  \n",
            " 39  Heating        1460 non-null   object \n",
            " 40  HeatingQC      1460 non-null   object \n",
            " 41  CentralAir     1460 non-null   object \n",
            " 42  Electrical     1459 non-null   object \n",
            " 43  1stFlrSF       1460 non-null   int64  \n",
            " 44  2ndFlrSF       1460 non-null   int64  \n",
            " 45  LowQualFinSF   1460 non-null   int64  \n",
            " 46  GrLivArea      1460 non-null   int64  \n",
            " 47  BsmtFullBath   1460 non-null   int64  \n",
            " 48  BsmtHalfBath   1460 non-null   int64  \n",
            " 49  FullBath       1460 non-null   int64  \n",
            " 50  HalfBath       1460 non-null   int64  \n",
            " 51  BedroomAbvGr   1460 non-null   int64  \n",
            " 52  KitchenAbvGr   1460 non-null   int64  \n",
            " 53  KitchenQual    1460 non-null   object \n",
            " 54  TotRmsAbvGrd   1460 non-null   int64  \n",
            " 55  Functional     1460 non-null   object \n",
            " 56  Fireplaces     1460 non-null   int64  \n",
            " 57  FireplaceQu    770 non-null    object \n",
            " 58  GarageType     1379 non-null   object \n",
            " 59  GarageYrBlt    1379 non-null   float64\n",
            " 60  GarageFinish   1379 non-null   object \n",
            " 61  GarageCars     1460 non-null   int64  \n",
            " 62  GarageArea     1460 non-null   int64  \n",
            " 63  GarageQual     1379 non-null   object \n",
            " 64  GarageCond     1379 non-null   object \n",
            " 65  PavedDrive     1460 non-null   object \n",
            " 66  WoodDeckSF     1460 non-null   int64  \n",
            " 67  OpenPorchSF    1460 non-null   int64  \n",
            " 68  EnclosedPorch  1460 non-null   int64  \n",
            " 69  3SsnPorch      1460 non-null   int64  \n",
            " 70  ScreenPorch    1460 non-null   int64  \n",
            " 71  PoolArea       1460 non-null   int64  \n",
            " 72  PoolQC         7 non-null      object \n",
            " 73  Fence          281 non-null    object \n",
            " 74  MiscFeature    54 non-null     object \n",
            " 75  MiscVal        1460 non-null   int64  \n",
            " 76  MoSold         1460 non-null   int64  \n",
            " 77  YrSold         1460 non-null   int64  \n",
            " 78  SaleType       1460 non-null   object \n",
            " 79  SaleCondition  1460 non-null   object \n",
            " 80  SalePrice      1460 non-null   int64  \n",
            "dtypes: float64(3), int64(35), object(43)\n",
            "memory usage: 924.0+ KB\n"
          ]
        },
        {
          "output_type": "execute_result",
          "data": {
            "text/plain": [
              "                Id   MSSubClass  LotFrontage        LotArea  OverallQual  \\\n",
              "count  1460.000000  1460.000000  1201.000000    1460.000000  1460.000000   \n",
              "mean    730.500000    56.897260    70.049958   10516.828082     6.099315   \n",
              "std     421.610009    42.300571    24.284752    9981.264932     1.382997   \n",
              "min       1.000000    20.000000    21.000000    1300.000000     1.000000   \n",
              "25%     365.750000    20.000000    59.000000    7553.500000     5.000000   \n",
              "50%     730.500000    50.000000    69.000000    9478.500000     6.000000   \n",
              "75%    1095.250000    70.000000    80.000000   11601.500000     7.000000   \n",
              "max    1460.000000   190.000000   313.000000  215245.000000    10.000000   \n",
              "\n",
              "       OverallCond    YearBuilt  YearRemodAdd   MasVnrArea   BsmtFinSF1  ...  \\\n",
              "count  1460.000000  1460.000000   1460.000000  1452.000000  1460.000000  ...   \n",
              "mean      5.575342  1971.267808   1984.865753   103.685262   443.639726  ...   \n",
              "std       1.112799    30.202904     20.645407   181.066207   456.098091  ...   \n",
              "min       1.000000  1872.000000   1950.000000     0.000000     0.000000  ...   \n",
              "25%       5.000000  1954.000000   1967.000000     0.000000     0.000000  ...   \n",
              "50%       5.000000  1973.000000   1994.000000     0.000000   383.500000  ...   \n",
              "75%       6.000000  2000.000000   2004.000000   166.000000   712.250000  ...   \n",
              "max       9.000000  2010.000000   2010.000000  1600.000000  5644.000000  ...   \n",
              "\n",
              "        WoodDeckSF  OpenPorchSF  EnclosedPorch    3SsnPorch  ScreenPorch  \\\n",
              "count  1460.000000  1460.000000    1460.000000  1460.000000  1460.000000   \n",
              "mean     94.244521    46.660274      21.954110     3.409589    15.060959   \n",
              "std     125.338794    66.256028      61.119149    29.317331    55.757415   \n",
              "min       0.000000     0.000000       0.000000     0.000000     0.000000   \n",
              "25%       0.000000     0.000000       0.000000     0.000000     0.000000   \n",
              "50%       0.000000    25.000000       0.000000     0.000000     0.000000   \n",
              "75%     168.000000    68.000000       0.000000     0.000000     0.000000   \n",
              "max     857.000000   547.000000     552.000000   508.000000   480.000000   \n",
              "\n",
              "          PoolArea       MiscVal       MoSold       YrSold      SalePrice  \n",
              "count  1460.000000   1460.000000  1460.000000  1460.000000    1460.000000  \n",
              "mean      2.758904     43.489041     6.321918  2007.815753  180921.195890  \n",
              "std      40.177307    496.123024     2.703626     1.328095   79442.502883  \n",
              "min       0.000000      0.000000     1.000000  2006.000000   34900.000000  \n",
              "25%       0.000000      0.000000     5.000000  2007.000000  129975.000000  \n",
              "50%       0.000000      0.000000     6.000000  2008.000000  163000.000000  \n",
              "75%       0.000000      0.000000     8.000000  2009.000000  214000.000000  \n",
              "max     738.000000  15500.000000    12.000000  2010.000000  755000.000000  \n",
              "\n",
              "[8 rows x 38 columns]"
            ],
            "text/html": [
              "\n",
              "  <div id=\"df-0d00a020-5618-4408-80d6-ac12e735eec4\" class=\"colab-df-container\">\n",
              "    <div>\n",
              "<style scoped>\n",
              "    .dataframe tbody tr th:only-of-type {\n",
              "        vertical-align: middle;\n",
              "    }\n",
              "\n",
              "    .dataframe tbody tr th {\n",
              "        vertical-align: top;\n",
              "    }\n",
              "\n",
              "    .dataframe thead th {\n",
              "        text-align: right;\n",
              "    }\n",
              "</style>\n",
              "<table border=\"1\" class=\"dataframe\">\n",
              "  <thead>\n",
              "    <tr style=\"text-align: right;\">\n",
              "      <th></th>\n",
              "      <th>Id</th>\n",
              "      <th>MSSubClass</th>\n",
              "      <th>LotFrontage</th>\n",
              "      <th>LotArea</th>\n",
              "      <th>OverallQual</th>\n",
              "      <th>OverallCond</th>\n",
              "      <th>YearBuilt</th>\n",
              "      <th>YearRemodAdd</th>\n",
              "      <th>MasVnrArea</th>\n",
              "      <th>BsmtFinSF1</th>\n",
              "      <th>...</th>\n",
              "      <th>WoodDeckSF</th>\n",
              "      <th>OpenPorchSF</th>\n",
              "      <th>EnclosedPorch</th>\n",
              "      <th>3SsnPorch</th>\n",
              "      <th>ScreenPorch</th>\n",
              "      <th>PoolArea</th>\n",
              "      <th>MiscVal</th>\n",
              "      <th>MoSold</th>\n",
              "      <th>YrSold</th>\n",
              "      <th>SalePrice</th>\n",
              "    </tr>\n",
              "  </thead>\n",
              "  <tbody>\n",
              "    <tr>\n",
              "      <th>count</th>\n",
              "      <td>1460.000000</td>\n",
              "      <td>1460.000000</td>\n",
              "      <td>1201.000000</td>\n",
              "      <td>1460.000000</td>\n",
              "      <td>1460.000000</td>\n",
              "      <td>1460.000000</td>\n",
              "      <td>1460.000000</td>\n",
              "      <td>1460.000000</td>\n",
              "      <td>1452.000000</td>\n",
              "      <td>1460.000000</td>\n",
              "      <td>...</td>\n",
              "      <td>1460.000000</td>\n",
              "      <td>1460.000000</td>\n",
              "      <td>1460.000000</td>\n",
              "      <td>1460.000000</td>\n",
              "      <td>1460.000000</td>\n",
              "      <td>1460.000000</td>\n",
              "      <td>1460.000000</td>\n",
              "      <td>1460.000000</td>\n",
              "      <td>1460.000000</td>\n",
              "      <td>1460.000000</td>\n",
              "    </tr>\n",
              "    <tr>\n",
              "      <th>mean</th>\n",
              "      <td>730.500000</td>\n",
              "      <td>56.897260</td>\n",
              "      <td>70.049958</td>\n",
              "      <td>10516.828082</td>\n",
              "      <td>6.099315</td>\n",
              "      <td>5.575342</td>\n",
              "      <td>1971.267808</td>\n",
              "      <td>1984.865753</td>\n",
              "      <td>103.685262</td>\n",
              "      <td>443.639726</td>\n",
              "      <td>...</td>\n",
              "      <td>94.244521</td>\n",
              "      <td>46.660274</td>\n",
              "      <td>21.954110</td>\n",
              "      <td>3.409589</td>\n",
              "      <td>15.060959</td>\n",
              "      <td>2.758904</td>\n",
              "      <td>43.489041</td>\n",
              "      <td>6.321918</td>\n",
              "      <td>2007.815753</td>\n",
              "      <td>180921.195890</td>\n",
              "    </tr>\n",
              "    <tr>\n",
              "      <th>std</th>\n",
              "      <td>421.610009</td>\n",
              "      <td>42.300571</td>\n",
              "      <td>24.284752</td>\n",
              "      <td>9981.264932</td>\n",
              "      <td>1.382997</td>\n",
              "      <td>1.112799</td>\n",
              "      <td>30.202904</td>\n",
              "      <td>20.645407</td>\n",
              "      <td>181.066207</td>\n",
              "      <td>456.098091</td>\n",
              "      <td>...</td>\n",
              "      <td>125.338794</td>\n",
              "      <td>66.256028</td>\n",
              "      <td>61.119149</td>\n",
              "      <td>29.317331</td>\n",
              "      <td>55.757415</td>\n",
              "      <td>40.177307</td>\n",
              "      <td>496.123024</td>\n",
              "      <td>2.703626</td>\n",
              "      <td>1.328095</td>\n",
              "      <td>79442.502883</td>\n",
              "    </tr>\n",
              "    <tr>\n",
              "      <th>min</th>\n",
              "      <td>1.000000</td>\n",
              "      <td>20.000000</td>\n",
              "      <td>21.000000</td>\n",
              "      <td>1300.000000</td>\n",
              "      <td>1.000000</td>\n",
              "      <td>1.000000</td>\n",
              "      <td>1872.000000</td>\n",
              "      <td>1950.000000</td>\n",
              "      <td>0.000000</td>\n",
              "      <td>0.000000</td>\n",
              "      <td>...</td>\n",
              "      <td>0.000000</td>\n",
              "      <td>0.000000</td>\n",
              "      <td>0.000000</td>\n",
              "      <td>0.000000</td>\n",
              "      <td>0.000000</td>\n",
              "      <td>0.000000</td>\n",
              "      <td>0.000000</td>\n",
              "      <td>1.000000</td>\n",
              "      <td>2006.000000</td>\n",
              "      <td>34900.000000</td>\n",
              "    </tr>\n",
              "    <tr>\n",
              "      <th>25%</th>\n",
              "      <td>365.750000</td>\n",
              "      <td>20.000000</td>\n",
              "      <td>59.000000</td>\n",
              "      <td>7553.500000</td>\n",
              "      <td>5.000000</td>\n",
              "      <td>5.000000</td>\n",
              "      <td>1954.000000</td>\n",
              "      <td>1967.000000</td>\n",
              "      <td>0.000000</td>\n",
              "      <td>0.000000</td>\n",
              "      <td>...</td>\n",
              "      <td>0.000000</td>\n",
              "      <td>0.000000</td>\n",
              "      <td>0.000000</td>\n",
              "      <td>0.000000</td>\n",
              "      <td>0.000000</td>\n",
              "      <td>0.000000</td>\n",
              "      <td>0.000000</td>\n",
              "      <td>5.000000</td>\n",
              "      <td>2007.000000</td>\n",
              "      <td>129975.000000</td>\n",
              "    </tr>\n",
              "    <tr>\n",
              "      <th>50%</th>\n",
              "      <td>730.500000</td>\n",
              "      <td>50.000000</td>\n",
              "      <td>69.000000</td>\n",
              "      <td>9478.500000</td>\n",
              "      <td>6.000000</td>\n",
              "      <td>5.000000</td>\n",
              "      <td>1973.000000</td>\n",
              "      <td>1994.000000</td>\n",
              "      <td>0.000000</td>\n",
              "      <td>383.500000</td>\n",
              "      <td>...</td>\n",
              "      <td>0.000000</td>\n",
              "      <td>25.000000</td>\n",
              "      <td>0.000000</td>\n",
              "      <td>0.000000</td>\n",
              "      <td>0.000000</td>\n",
              "      <td>0.000000</td>\n",
              "      <td>0.000000</td>\n",
              "      <td>6.000000</td>\n",
              "      <td>2008.000000</td>\n",
              "      <td>163000.000000</td>\n",
              "    </tr>\n",
              "    <tr>\n",
              "      <th>75%</th>\n",
              "      <td>1095.250000</td>\n",
              "      <td>70.000000</td>\n",
              "      <td>80.000000</td>\n",
              "      <td>11601.500000</td>\n",
              "      <td>7.000000</td>\n",
              "      <td>6.000000</td>\n",
              "      <td>2000.000000</td>\n",
              "      <td>2004.000000</td>\n",
              "      <td>166.000000</td>\n",
              "      <td>712.250000</td>\n",
              "      <td>...</td>\n",
              "      <td>168.000000</td>\n",
              "      <td>68.000000</td>\n",
              "      <td>0.000000</td>\n",
              "      <td>0.000000</td>\n",
              "      <td>0.000000</td>\n",
              "      <td>0.000000</td>\n",
              "      <td>0.000000</td>\n",
              "      <td>8.000000</td>\n",
              "      <td>2009.000000</td>\n",
              "      <td>214000.000000</td>\n",
              "    </tr>\n",
              "    <tr>\n",
              "      <th>max</th>\n",
              "      <td>1460.000000</td>\n",
              "      <td>190.000000</td>\n",
              "      <td>313.000000</td>\n",
              "      <td>215245.000000</td>\n",
              "      <td>10.000000</td>\n",
              "      <td>9.000000</td>\n",
              "      <td>2010.000000</td>\n",
              "      <td>2010.000000</td>\n",
              "      <td>1600.000000</td>\n",
              "      <td>5644.000000</td>\n",
              "      <td>...</td>\n",
              "      <td>857.000000</td>\n",
              "      <td>547.000000</td>\n",
              "      <td>552.000000</td>\n",
              "      <td>508.000000</td>\n",
              "      <td>480.000000</td>\n",
              "      <td>738.000000</td>\n",
              "      <td>15500.000000</td>\n",
              "      <td>12.000000</td>\n",
              "      <td>2010.000000</td>\n",
              "      <td>755000.000000</td>\n",
              "    </tr>\n",
              "  </tbody>\n",
              "</table>\n",
              "<p>8 rows × 38 columns</p>\n",
              "</div>\n",
              "    <div class=\"colab-df-buttons\">\n",
              "\n",
              "  <div class=\"colab-df-container\">\n",
              "    <button class=\"colab-df-convert\" onclick=\"convertToInteractive('df-0d00a020-5618-4408-80d6-ac12e735eec4')\"\n",
              "            title=\"Convert this dataframe to an interactive table.\"\n",
              "            style=\"display:none;\">\n",
              "\n",
              "  <svg xmlns=\"http://www.w3.org/2000/svg\" height=\"24px\" viewBox=\"0 -960 960 960\">\n",
              "    <path d=\"M120-120v-720h720v720H120Zm60-500h600v-160H180v160Zm220 220h160v-160H400v160Zm0 220h160v-160H400v160ZM180-400h160v-160H180v160Zm440 0h160v-160H620v160ZM180-180h160v-160H180v160Zm440 0h160v-160H620v160Z\"/>\n",
              "  </svg>\n",
              "    </button>\n",
              "\n",
              "  <style>\n",
              "    .colab-df-container {\n",
              "      display:flex;\n",
              "      gap: 12px;\n",
              "    }\n",
              "\n",
              "    .colab-df-convert {\n",
              "      background-color: #E8F0FE;\n",
              "      border: none;\n",
              "      border-radius: 50%;\n",
              "      cursor: pointer;\n",
              "      display: none;\n",
              "      fill: #1967D2;\n",
              "      height: 32px;\n",
              "      padding: 0 0 0 0;\n",
              "      width: 32px;\n",
              "    }\n",
              "\n",
              "    .colab-df-convert:hover {\n",
              "      background-color: #E2EBFA;\n",
              "      box-shadow: 0px 1px 2px rgba(60, 64, 67, 0.3), 0px 1px 3px 1px rgba(60, 64, 67, 0.15);\n",
              "      fill: #174EA6;\n",
              "    }\n",
              "\n",
              "    .colab-df-buttons div {\n",
              "      margin-bottom: 4px;\n",
              "    }\n",
              "\n",
              "    [theme=dark] .colab-df-convert {\n",
              "      background-color: #3B4455;\n",
              "      fill: #D2E3FC;\n",
              "    }\n",
              "\n",
              "    [theme=dark] .colab-df-convert:hover {\n",
              "      background-color: #434B5C;\n",
              "      box-shadow: 0px 1px 3px 1px rgba(0, 0, 0, 0.15);\n",
              "      filter: drop-shadow(0px 1px 2px rgba(0, 0, 0, 0.3));\n",
              "      fill: #FFFFFF;\n",
              "    }\n",
              "  </style>\n",
              "\n",
              "    <script>\n",
              "      const buttonEl =\n",
              "        document.querySelector('#df-0d00a020-5618-4408-80d6-ac12e735eec4 button.colab-df-convert');\n",
              "      buttonEl.style.display =\n",
              "        google.colab.kernel.accessAllowed ? 'block' : 'none';\n",
              "\n",
              "      async function convertToInteractive(key) {\n",
              "        const element = document.querySelector('#df-0d00a020-5618-4408-80d6-ac12e735eec4');\n",
              "        const dataTable =\n",
              "          await google.colab.kernel.invokeFunction('convertToInteractive',\n",
              "                                                    [key], {});\n",
              "        if (!dataTable) return;\n",
              "\n",
              "        const docLinkHtml = 'Like what you see? Visit the ' +\n",
              "          '<a target=\"_blank\" href=https://colab.research.google.com/notebooks/data_table.ipynb>data table notebook</a>'\n",
              "          + ' to learn more about interactive tables.';\n",
              "        element.innerHTML = '';\n",
              "        dataTable['output_type'] = 'display_data';\n",
              "        await google.colab.output.renderOutput(dataTable, element);\n",
              "        const docLink = document.createElement('div');\n",
              "        docLink.innerHTML = docLinkHtml;\n",
              "        element.appendChild(docLink);\n",
              "      }\n",
              "    </script>\n",
              "  </div>\n",
              "\n",
              "\n",
              "    <div id=\"df-994ff7ca-f28e-46ca-9817-066f0c9f92d9\">\n",
              "      <button class=\"colab-df-quickchart\" onclick=\"quickchart('df-994ff7ca-f28e-46ca-9817-066f0c9f92d9')\"\n",
              "                title=\"Suggest charts\"\n",
              "                style=\"display:none;\">\n",
              "\n",
              "<svg xmlns=\"http://www.w3.org/2000/svg\" height=\"24px\"viewBox=\"0 0 24 24\"\n",
              "     width=\"24px\">\n",
              "    <g>\n",
              "        <path d=\"M19 3H5c-1.1 0-2 .9-2 2v14c0 1.1.9 2 2 2h14c1.1 0 2-.9 2-2V5c0-1.1-.9-2-2-2zM9 17H7v-7h2v7zm4 0h-2V7h2v10zm4 0h-2v-4h2v4z\"/>\n",
              "    </g>\n",
              "</svg>\n",
              "      </button>\n",
              "\n",
              "<style>\n",
              "  .colab-df-quickchart {\n",
              "      --bg-color: #E8F0FE;\n",
              "      --fill-color: #1967D2;\n",
              "      --hover-bg-color: #E2EBFA;\n",
              "      --hover-fill-color: #174EA6;\n",
              "      --disabled-fill-color: #AAA;\n",
              "      --disabled-bg-color: #DDD;\n",
              "  }\n",
              "\n",
              "  [theme=dark] .colab-df-quickchart {\n",
              "      --bg-color: #3B4455;\n",
              "      --fill-color: #D2E3FC;\n",
              "      --hover-bg-color: #434B5C;\n",
              "      --hover-fill-color: #FFFFFF;\n",
              "      --disabled-bg-color: #3B4455;\n",
              "      --disabled-fill-color: #666;\n",
              "  }\n",
              "\n",
              "  .colab-df-quickchart {\n",
              "    background-color: var(--bg-color);\n",
              "    border: none;\n",
              "    border-radius: 50%;\n",
              "    cursor: pointer;\n",
              "    display: none;\n",
              "    fill: var(--fill-color);\n",
              "    height: 32px;\n",
              "    padding: 0;\n",
              "    width: 32px;\n",
              "  }\n",
              "\n",
              "  .colab-df-quickchart:hover {\n",
              "    background-color: var(--hover-bg-color);\n",
              "    box-shadow: 0 1px 2px rgba(60, 64, 67, 0.3), 0 1px 3px 1px rgba(60, 64, 67, 0.15);\n",
              "    fill: var(--button-hover-fill-color);\n",
              "  }\n",
              "\n",
              "  .colab-df-quickchart-complete:disabled,\n",
              "  .colab-df-quickchart-complete:disabled:hover {\n",
              "    background-color: var(--disabled-bg-color);\n",
              "    fill: var(--disabled-fill-color);\n",
              "    box-shadow: none;\n",
              "  }\n",
              "\n",
              "  .colab-df-spinner {\n",
              "    border: 2px solid var(--fill-color);\n",
              "    border-color: transparent;\n",
              "    border-bottom-color: var(--fill-color);\n",
              "    animation:\n",
              "      spin 1s steps(1) infinite;\n",
              "  }\n",
              "\n",
              "  @keyframes spin {\n",
              "    0% {\n",
              "      border-color: transparent;\n",
              "      border-bottom-color: var(--fill-color);\n",
              "      border-left-color: var(--fill-color);\n",
              "    }\n",
              "    20% {\n",
              "      border-color: transparent;\n",
              "      border-left-color: var(--fill-color);\n",
              "      border-top-color: var(--fill-color);\n",
              "    }\n",
              "    30% {\n",
              "      border-color: transparent;\n",
              "      border-left-color: var(--fill-color);\n",
              "      border-top-color: var(--fill-color);\n",
              "      border-right-color: var(--fill-color);\n",
              "    }\n",
              "    40% {\n",
              "      border-color: transparent;\n",
              "      border-right-color: var(--fill-color);\n",
              "      border-top-color: var(--fill-color);\n",
              "    }\n",
              "    60% {\n",
              "      border-color: transparent;\n",
              "      border-right-color: var(--fill-color);\n",
              "    }\n",
              "    80% {\n",
              "      border-color: transparent;\n",
              "      border-right-color: var(--fill-color);\n",
              "      border-bottom-color: var(--fill-color);\n",
              "    }\n",
              "    90% {\n",
              "      border-color: transparent;\n",
              "      border-bottom-color: var(--fill-color);\n",
              "    }\n",
              "  }\n",
              "</style>\n",
              "\n",
              "      <script>\n",
              "        async function quickchart(key) {\n",
              "          const quickchartButtonEl =\n",
              "            document.querySelector('#' + key + ' button');\n",
              "          quickchartButtonEl.disabled = true;  // To prevent multiple clicks.\n",
              "          quickchartButtonEl.classList.add('colab-df-spinner');\n",
              "          try {\n",
              "            const charts = await google.colab.kernel.invokeFunction(\n",
              "                'suggestCharts', [key], {});\n",
              "          } catch (error) {\n",
              "            console.error('Error during call to suggestCharts:', error);\n",
              "          }\n",
              "          quickchartButtonEl.classList.remove('colab-df-spinner');\n",
              "          quickchartButtonEl.classList.add('colab-df-quickchart-complete');\n",
              "        }\n",
              "        (() => {\n",
              "          let quickchartButtonEl =\n",
              "            document.querySelector('#df-994ff7ca-f28e-46ca-9817-066f0c9f92d9 button');\n",
              "          quickchartButtonEl.style.display =\n",
              "            google.colab.kernel.accessAllowed ? 'block' : 'none';\n",
              "        })();\n",
              "      </script>\n",
              "    </div>\n",
              "\n",
              "    </div>\n",
              "  </div>\n"
            ],
            "application/vnd.google.colaboratory.intrinsic+json": {
              "type": "dataframe"
            }
          },
          "metadata": {},
          "execution_count": 201
        }
      ]
    },
    {
      "cell_type": "markdown",
      "source": [
        "## **3. Limpieza avanzada de datos**\n",
        "\n"
      ],
      "metadata": {
        "id": "TTgKz4WNC0Kv"
      }
    },
    {
      "cell_type": "markdown",
      "source": [
        "**3.1 Detección de valores faltantes**"
      ],
      "metadata": {
        "id": "ZEFBQiXQDHNc"
      }
    },
    {
      "cell_type": "code",
      "execution_count": 202,
      "metadata": {
        "id": "HtNLxtssAvey",
        "colab": {
          "base_uri": "https://localhost:8080/",
          "height": 680
        },
        "outputId": "8902aeaf-0901-45a7-f824-8bc72d78a0dc"
      },
      "outputs": [
        {
          "output_type": "execute_result",
          "data": {
            "text/plain": [
              "PoolQC          1453\n",
              "MiscFeature     1406\n",
              "Alley           1369\n",
              "Fence           1179\n",
              "MasVnrType       872\n",
              "FireplaceQu      690\n",
              "LotFrontage      259\n",
              "GarageType        81\n",
              "GarageYrBlt       81\n",
              "GarageFinish      81\n",
              "GarageQual        81\n",
              "GarageCond        81\n",
              "BsmtExposure      38\n",
              "BsmtFinType2      38\n",
              "BsmtQual          37\n",
              "BsmtCond          37\n",
              "BsmtFinType1      37\n",
              "MasVnrArea         8\n",
              "Electrical         1\n",
              "dtype: int64"
            ],
            "text/html": [
              "<div>\n",
              "<style scoped>\n",
              "    .dataframe tbody tr th:only-of-type {\n",
              "        vertical-align: middle;\n",
              "    }\n",
              "\n",
              "    .dataframe tbody tr th {\n",
              "        vertical-align: top;\n",
              "    }\n",
              "\n",
              "    .dataframe thead th {\n",
              "        text-align: right;\n",
              "    }\n",
              "</style>\n",
              "<table border=\"1\" class=\"dataframe\">\n",
              "  <thead>\n",
              "    <tr style=\"text-align: right;\">\n",
              "      <th></th>\n",
              "      <th>0</th>\n",
              "    </tr>\n",
              "  </thead>\n",
              "  <tbody>\n",
              "    <tr>\n",
              "      <th>PoolQC</th>\n",
              "      <td>1453</td>\n",
              "    </tr>\n",
              "    <tr>\n",
              "      <th>MiscFeature</th>\n",
              "      <td>1406</td>\n",
              "    </tr>\n",
              "    <tr>\n",
              "      <th>Alley</th>\n",
              "      <td>1369</td>\n",
              "    </tr>\n",
              "    <tr>\n",
              "      <th>Fence</th>\n",
              "      <td>1179</td>\n",
              "    </tr>\n",
              "    <tr>\n",
              "      <th>MasVnrType</th>\n",
              "      <td>872</td>\n",
              "    </tr>\n",
              "    <tr>\n",
              "      <th>FireplaceQu</th>\n",
              "      <td>690</td>\n",
              "    </tr>\n",
              "    <tr>\n",
              "      <th>LotFrontage</th>\n",
              "      <td>259</td>\n",
              "    </tr>\n",
              "    <tr>\n",
              "      <th>GarageType</th>\n",
              "      <td>81</td>\n",
              "    </tr>\n",
              "    <tr>\n",
              "      <th>GarageYrBlt</th>\n",
              "      <td>81</td>\n",
              "    </tr>\n",
              "    <tr>\n",
              "      <th>GarageFinish</th>\n",
              "      <td>81</td>\n",
              "    </tr>\n",
              "    <tr>\n",
              "      <th>GarageQual</th>\n",
              "      <td>81</td>\n",
              "    </tr>\n",
              "    <tr>\n",
              "      <th>GarageCond</th>\n",
              "      <td>81</td>\n",
              "    </tr>\n",
              "    <tr>\n",
              "      <th>BsmtExposure</th>\n",
              "      <td>38</td>\n",
              "    </tr>\n",
              "    <tr>\n",
              "      <th>BsmtFinType2</th>\n",
              "      <td>38</td>\n",
              "    </tr>\n",
              "    <tr>\n",
              "      <th>BsmtQual</th>\n",
              "      <td>37</td>\n",
              "    </tr>\n",
              "    <tr>\n",
              "      <th>BsmtCond</th>\n",
              "      <td>37</td>\n",
              "    </tr>\n",
              "    <tr>\n",
              "      <th>BsmtFinType1</th>\n",
              "      <td>37</td>\n",
              "    </tr>\n",
              "    <tr>\n",
              "      <th>MasVnrArea</th>\n",
              "      <td>8</td>\n",
              "    </tr>\n",
              "    <tr>\n",
              "      <th>Electrical</th>\n",
              "      <td>1</td>\n",
              "    </tr>\n",
              "  </tbody>\n",
              "</table>\n",
              "</div><br><label><b>dtype:</b> int64</label>"
            ]
          },
          "metadata": {},
          "execution_count": 202
        }
      ],
      "source": [
        "missing = df.isnull().sum()\n",
        "missing[missing > 0].sort_values(ascending=False)\n"
      ]
    },
    {
      "cell_type": "markdown",
      "source": [
        "Aquí detectamos columnas con valores faltantes. Algunos datasets codifican los nulos como “NA” o “0” en lugar de NaN, por lo que también conviene revisar valores únicos por columna."
      ],
      "metadata": {
        "id": "JxTNcqo_C9iI"
      }
    },
    {
      "cell_type": "markdown",
      "source": [
        "**3.2 Imputación de valores**\n"
      ],
      "metadata": {
        "id": "66n7h24zDKe4"
      }
    },
    {
      "cell_type": "markdown",
      "source": [
        "\n",
        "Numéricos – usando la mediana para evitar el efecto de outliers:"
      ],
      "metadata": {
        "id": "nIprea6NDBHL"
      }
    },
    {
      "cell_type": "code",
      "source": [
        "num_imputer = SimpleImputer(strategy='median')\n",
        "df['LotFrontage'] = num_imputer.fit_transform(df[['LotFrontage']])\n"
      ],
      "metadata": {
        "id": "pbVBUu1tCvCQ"
      },
      "execution_count": 203,
      "outputs": []
    },
    {
      "cell_type": "markdown",
      "source": [
        "Categóricos – usando la moda o creando una categoría “Missing”:"
      ],
      "metadata": {
        "id": "-rJdZsnVDOL7"
      }
    },
    {
      "cell_type": "code",
      "source": [
        "cat_imputer = SimpleImputer(strategy='most_frequent')\n",
        "df['MasVnrType'] = cat_imputer.fit_transform(df[['MasVnrType']]).ravel()"
      ],
      "metadata": {
        "id": "hYQLmvH0CnIF"
      },
      "execution_count": 204,
      "outputs": []
    },
    {
      "cell_type": "code",
      "source": [
        "df['MasVnrType'].unique()"
      ],
      "metadata": {
        "colab": {
          "base_uri": "https://localhost:8080/"
        },
        "id": "n0qShOysXuGD",
        "outputId": "90c4026a-619b-45a5-b039-19dcd36011d0"
      },
      "execution_count": 205,
      "outputs": [
        {
          "output_type": "execute_result",
          "data": {
            "text/plain": [
              "array(['BrkFace', 'Stone', 'BrkCmn'], dtype=object)"
            ]
          },
          "metadata": {},
          "execution_count": 205
        }
      ]
    },
    {
      "cell_type": "markdown",
      "source": [
        "> Usar media puede distorsionar si hay valores extremos.\n",
        ">\n",
        "> Usar mediana es más robusto frente a outliers.\n",
        ">\n",
        "> Para categóricos, asignar “Missing” puede conservar la información de que el valor no estaba registrado."
      ],
      "metadata": {
        "id": "i0TkrgnDDWr5"
      }
    },
    {
      "cell_type": "markdown",
      "source": [
        "**3.3 Corrección de inconsistencias de formato**"
      ],
      "metadata": {
        "id": "mY_cEiuNDfcr"
      }
    },
    {
      "cell_type": "code",
      "source": [
        "df['Neighborhood'] = df['Neighborhood'].str.strip().str.title()\n"
      ],
      "metadata": {
        "id": "aPSmvVHtDUYg"
      },
      "execution_count": 206,
      "outputs": []
    },
    {
      "cell_type": "markdown",
      "source": [
        "Esto asegura consistencia en mayúsculas/minúsculas y elimina espacios extra.\n",
        "\n"
      ],
      "metadata": {
        "id": "DPY9UG5oDks2"
      }
    },
    {
      "cell_type": "markdown",
      "source": [
        "**3.4 Duplicados exactos y casi-duplicados**\n"
      ],
      "metadata": {
        "id": "4W40xJkoDmj8"
      }
    },
    {
      "cell_type": "code",
      "source": [
        "df.drop_duplicates(inplace=True)\n"
      ],
      "metadata": {
        "id": "7AAgA-A4Dkcn"
      },
      "execution_count": 207,
      "outputs": []
    },
    {
      "cell_type": "markdown",
      "source": [
        "**3.5 Outliers**"
      ],
      "metadata": {
        "id": "xAL1dqFiEO0B"
      }
    },
    {
      "cell_type": "markdown",
      "source": [
        "Usaremos el rango intercuartílico (IQR):"
      ],
      "metadata": {
        "id": "uHaN-8amERsN"
      }
    },
    {
      "cell_type": "code",
      "source": [
        "Q1 = df['SalePrice'].quantile(0.25)\n",
        "Q3 = df['SalePrice'].quantile(0.75)\n",
        "IQR = Q3 - Q1\n",
        "\n",
        "outliers = df[(df['SalePrice'] < Q1 - 1.5*IQR) | (df['SalePrice'] > Q3 + 1.5*IQR)]\n",
        "outliers.shape\n"
      ],
      "metadata": {
        "id": "W2wwDlVvEVj4",
        "colab": {
          "base_uri": "https://localhost:8080/"
        },
        "outputId": "c366cc2c-039d-448e-a756-bfcd6f39a466"
      },
      "execution_count": 208,
      "outputs": [
        {
          "output_type": "execute_result",
          "data": {
            "text/plain": [
              "(61, 81)"
            ]
          },
          "metadata": {},
          "execution_count": 208
        }
      ]
    },
    {
      "cell_type": "code",
      "source": [
        "outliers.head()"
      ],
      "metadata": {
        "colab": {
          "base_uri": "https://localhost:8080/",
          "height": 236
        },
        "id": "WrnayhFuYHpP",
        "outputId": "e541d16c-08a1-4476-d968-17e403b03b89"
      },
      "execution_count": 209,
      "outputs": [
        {
          "output_type": "execute_result",
          "data": {
            "text/plain": [
              "      Id  MSSubClass MSZoning  LotFrontage  LotArea Street Alley LotShape  \\\n",
              "11    12          60       RL         85.0    11924   Pave   NaN      IR1   \n",
              "53    54          20       RL         68.0    50271   Pave   NaN      IR1   \n",
              "58    59          60       RL         66.0    13682   Pave   NaN      IR2   \n",
              "112  113          60       RL         77.0     9965   Pave   NaN      Reg   \n",
              "151  152          20       RL        107.0    13891   Pave   NaN      Reg   \n",
              "\n",
              "    LandContour Utilities  ... PoolArea PoolQC Fence MiscFeature MiscVal  \\\n",
              "11          Lvl    AllPub  ...        0    NaN   NaN         NaN       0   \n",
              "53          Low    AllPub  ...        0    NaN   NaN         NaN       0   \n",
              "58          HLS    AllPub  ...        0    NaN   NaN         NaN       0   \n",
              "112         Lvl    AllPub  ...        0    NaN   NaN         NaN       0   \n",
              "151         Lvl    AllPub  ...        0    NaN   NaN         NaN       0   \n",
              "\n",
              "    MoSold YrSold  SaleType  SaleCondition  SalePrice  \n",
              "11       7   2006       New        Partial     345000  \n",
              "53      11   2006        WD         Normal     385000  \n",
              "58      10   2006       New        Partial     438780  \n",
              "112     10   2007       New        Partial     383970  \n",
              "151      1   2008       New        Partial     372402  \n",
              "\n",
              "[5 rows x 81 columns]"
            ],
            "text/html": [
              "\n",
              "  <div id=\"df-06e9144c-9b10-4fe2-9e97-04724eb7c128\" class=\"colab-df-container\">\n",
              "    <div>\n",
              "<style scoped>\n",
              "    .dataframe tbody tr th:only-of-type {\n",
              "        vertical-align: middle;\n",
              "    }\n",
              "\n",
              "    .dataframe tbody tr th {\n",
              "        vertical-align: top;\n",
              "    }\n",
              "\n",
              "    .dataframe thead th {\n",
              "        text-align: right;\n",
              "    }\n",
              "</style>\n",
              "<table border=\"1\" class=\"dataframe\">\n",
              "  <thead>\n",
              "    <tr style=\"text-align: right;\">\n",
              "      <th></th>\n",
              "      <th>Id</th>\n",
              "      <th>MSSubClass</th>\n",
              "      <th>MSZoning</th>\n",
              "      <th>LotFrontage</th>\n",
              "      <th>LotArea</th>\n",
              "      <th>Street</th>\n",
              "      <th>Alley</th>\n",
              "      <th>LotShape</th>\n",
              "      <th>LandContour</th>\n",
              "      <th>Utilities</th>\n",
              "      <th>...</th>\n",
              "      <th>PoolArea</th>\n",
              "      <th>PoolQC</th>\n",
              "      <th>Fence</th>\n",
              "      <th>MiscFeature</th>\n",
              "      <th>MiscVal</th>\n",
              "      <th>MoSold</th>\n",
              "      <th>YrSold</th>\n",
              "      <th>SaleType</th>\n",
              "      <th>SaleCondition</th>\n",
              "      <th>SalePrice</th>\n",
              "    </tr>\n",
              "  </thead>\n",
              "  <tbody>\n",
              "    <tr>\n",
              "      <th>11</th>\n",
              "      <td>12</td>\n",
              "      <td>60</td>\n",
              "      <td>RL</td>\n",
              "      <td>85.0</td>\n",
              "      <td>11924</td>\n",
              "      <td>Pave</td>\n",
              "      <td>NaN</td>\n",
              "      <td>IR1</td>\n",
              "      <td>Lvl</td>\n",
              "      <td>AllPub</td>\n",
              "      <td>...</td>\n",
              "      <td>0</td>\n",
              "      <td>NaN</td>\n",
              "      <td>NaN</td>\n",
              "      <td>NaN</td>\n",
              "      <td>0</td>\n",
              "      <td>7</td>\n",
              "      <td>2006</td>\n",
              "      <td>New</td>\n",
              "      <td>Partial</td>\n",
              "      <td>345000</td>\n",
              "    </tr>\n",
              "    <tr>\n",
              "      <th>53</th>\n",
              "      <td>54</td>\n",
              "      <td>20</td>\n",
              "      <td>RL</td>\n",
              "      <td>68.0</td>\n",
              "      <td>50271</td>\n",
              "      <td>Pave</td>\n",
              "      <td>NaN</td>\n",
              "      <td>IR1</td>\n",
              "      <td>Low</td>\n",
              "      <td>AllPub</td>\n",
              "      <td>...</td>\n",
              "      <td>0</td>\n",
              "      <td>NaN</td>\n",
              "      <td>NaN</td>\n",
              "      <td>NaN</td>\n",
              "      <td>0</td>\n",
              "      <td>11</td>\n",
              "      <td>2006</td>\n",
              "      <td>WD</td>\n",
              "      <td>Normal</td>\n",
              "      <td>385000</td>\n",
              "    </tr>\n",
              "    <tr>\n",
              "      <th>58</th>\n",
              "      <td>59</td>\n",
              "      <td>60</td>\n",
              "      <td>RL</td>\n",
              "      <td>66.0</td>\n",
              "      <td>13682</td>\n",
              "      <td>Pave</td>\n",
              "      <td>NaN</td>\n",
              "      <td>IR2</td>\n",
              "      <td>HLS</td>\n",
              "      <td>AllPub</td>\n",
              "      <td>...</td>\n",
              "      <td>0</td>\n",
              "      <td>NaN</td>\n",
              "      <td>NaN</td>\n",
              "      <td>NaN</td>\n",
              "      <td>0</td>\n",
              "      <td>10</td>\n",
              "      <td>2006</td>\n",
              "      <td>New</td>\n",
              "      <td>Partial</td>\n",
              "      <td>438780</td>\n",
              "    </tr>\n",
              "    <tr>\n",
              "      <th>112</th>\n",
              "      <td>113</td>\n",
              "      <td>60</td>\n",
              "      <td>RL</td>\n",
              "      <td>77.0</td>\n",
              "      <td>9965</td>\n",
              "      <td>Pave</td>\n",
              "      <td>NaN</td>\n",
              "      <td>Reg</td>\n",
              "      <td>Lvl</td>\n",
              "      <td>AllPub</td>\n",
              "      <td>...</td>\n",
              "      <td>0</td>\n",
              "      <td>NaN</td>\n",
              "      <td>NaN</td>\n",
              "      <td>NaN</td>\n",
              "      <td>0</td>\n",
              "      <td>10</td>\n",
              "      <td>2007</td>\n",
              "      <td>New</td>\n",
              "      <td>Partial</td>\n",
              "      <td>383970</td>\n",
              "    </tr>\n",
              "    <tr>\n",
              "      <th>151</th>\n",
              "      <td>152</td>\n",
              "      <td>20</td>\n",
              "      <td>RL</td>\n",
              "      <td>107.0</td>\n",
              "      <td>13891</td>\n",
              "      <td>Pave</td>\n",
              "      <td>NaN</td>\n",
              "      <td>Reg</td>\n",
              "      <td>Lvl</td>\n",
              "      <td>AllPub</td>\n",
              "      <td>...</td>\n",
              "      <td>0</td>\n",
              "      <td>NaN</td>\n",
              "      <td>NaN</td>\n",
              "      <td>NaN</td>\n",
              "      <td>0</td>\n",
              "      <td>1</td>\n",
              "      <td>2008</td>\n",
              "      <td>New</td>\n",
              "      <td>Partial</td>\n",
              "      <td>372402</td>\n",
              "    </tr>\n",
              "  </tbody>\n",
              "</table>\n",
              "<p>5 rows × 81 columns</p>\n",
              "</div>\n",
              "    <div class=\"colab-df-buttons\">\n",
              "\n",
              "  <div class=\"colab-df-container\">\n",
              "    <button class=\"colab-df-convert\" onclick=\"convertToInteractive('df-06e9144c-9b10-4fe2-9e97-04724eb7c128')\"\n",
              "            title=\"Convert this dataframe to an interactive table.\"\n",
              "            style=\"display:none;\">\n",
              "\n",
              "  <svg xmlns=\"http://www.w3.org/2000/svg\" height=\"24px\" viewBox=\"0 -960 960 960\">\n",
              "    <path d=\"M120-120v-720h720v720H120Zm60-500h600v-160H180v160Zm220 220h160v-160H400v160Zm0 220h160v-160H400v160ZM180-400h160v-160H180v160Zm440 0h160v-160H620v160ZM180-180h160v-160H180v160Zm440 0h160v-160H620v160Z\"/>\n",
              "  </svg>\n",
              "    </button>\n",
              "\n",
              "  <style>\n",
              "    .colab-df-container {\n",
              "      display:flex;\n",
              "      gap: 12px;\n",
              "    }\n",
              "\n",
              "    .colab-df-convert {\n",
              "      background-color: #E8F0FE;\n",
              "      border: none;\n",
              "      border-radius: 50%;\n",
              "      cursor: pointer;\n",
              "      display: none;\n",
              "      fill: #1967D2;\n",
              "      height: 32px;\n",
              "      padding: 0 0 0 0;\n",
              "      width: 32px;\n",
              "    }\n",
              "\n",
              "    .colab-df-convert:hover {\n",
              "      background-color: #E2EBFA;\n",
              "      box-shadow: 0px 1px 2px rgba(60, 64, 67, 0.3), 0px 1px 3px 1px rgba(60, 64, 67, 0.15);\n",
              "      fill: #174EA6;\n",
              "    }\n",
              "\n",
              "    .colab-df-buttons div {\n",
              "      margin-bottom: 4px;\n",
              "    }\n",
              "\n",
              "    [theme=dark] .colab-df-convert {\n",
              "      background-color: #3B4455;\n",
              "      fill: #D2E3FC;\n",
              "    }\n",
              "\n",
              "    [theme=dark] .colab-df-convert:hover {\n",
              "      background-color: #434B5C;\n",
              "      box-shadow: 0px 1px 3px 1px rgba(0, 0, 0, 0.15);\n",
              "      filter: drop-shadow(0px 1px 2px rgba(0, 0, 0, 0.3));\n",
              "      fill: #FFFFFF;\n",
              "    }\n",
              "  </style>\n",
              "\n",
              "    <script>\n",
              "      const buttonEl =\n",
              "        document.querySelector('#df-06e9144c-9b10-4fe2-9e97-04724eb7c128 button.colab-df-convert');\n",
              "      buttonEl.style.display =\n",
              "        google.colab.kernel.accessAllowed ? 'block' : 'none';\n",
              "\n",
              "      async function convertToInteractive(key) {\n",
              "        const element = document.querySelector('#df-06e9144c-9b10-4fe2-9e97-04724eb7c128');\n",
              "        const dataTable =\n",
              "          await google.colab.kernel.invokeFunction('convertToInteractive',\n",
              "                                                    [key], {});\n",
              "        if (!dataTable) return;\n",
              "\n",
              "        const docLinkHtml = 'Like what you see? Visit the ' +\n",
              "          '<a target=\"_blank\" href=https://colab.research.google.com/notebooks/data_table.ipynb>data table notebook</a>'\n",
              "          + ' to learn more about interactive tables.';\n",
              "        element.innerHTML = '';\n",
              "        dataTable['output_type'] = 'display_data';\n",
              "        await google.colab.output.renderOutput(dataTable, element);\n",
              "        const docLink = document.createElement('div');\n",
              "        docLink.innerHTML = docLinkHtml;\n",
              "        element.appendChild(docLink);\n",
              "      }\n",
              "    </script>\n",
              "  </div>\n",
              "\n",
              "\n",
              "    <div id=\"df-031859be-a537-4948-a66d-626f2b18e79f\">\n",
              "      <button class=\"colab-df-quickchart\" onclick=\"quickchart('df-031859be-a537-4948-a66d-626f2b18e79f')\"\n",
              "                title=\"Suggest charts\"\n",
              "                style=\"display:none;\">\n",
              "\n",
              "<svg xmlns=\"http://www.w3.org/2000/svg\" height=\"24px\"viewBox=\"0 0 24 24\"\n",
              "     width=\"24px\">\n",
              "    <g>\n",
              "        <path d=\"M19 3H5c-1.1 0-2 .9-2 2v14c0 1.1.9 2 2 2h14c1.1 0 2-.9 2-2V5c0-1.1-.9-2-2-2zM9 17H7v-7h2v7zm4 0h-2V7h2v10zm4 0h-2v-4h2v4z\"/>\n",
              "    </g>\n",
              "</svg>\n",
              "      </button>\n",
              "\n",
              "<style>\n",
              "  .colab-df-quickchart {\n",
              "      --bg-color: #E8F0FE;\n",
              "      --fill-color: #1967D2;\n",
              "      --hover-bg-color: #E2EBFA;\n",
              "      --hover-fill-color: #174EA6;\n",
              "      --disabled-fill-color: #AAA;\n",
              "      --disabled-bg-color: #DDD;\n",
              "  }\n",
              "\n",
              "  [theme=dark] .colab-df-quickchart {\n",
              "      --bg-color: #3B4455;\n",
              "      --fill-color: #D2E3FC;\n",
              "      --hover-bg-color: #434B5C;\n",
              "      --hover-fill-color: #FFFFFF;\n",
              "      --disabled-bg-color: #3B4455;\n",
              "      --disabled-fill-color: #666;\n",
              "  }\n",
              "\n",
              "  .colab-df-quickchart {\n",
              "    background-color: var(--bg-color);\n",
              "    border: none;\n",
              "    border-radius: 50%;\n",
              "    cursor: pointer;\n",
              "    display: none;\n",
              "    fill: var(--fill-color);\n",
              "    height: 32px;\n",
              "    padding: 0;\n",
              "    width: 32px;\n",
              "  }\n",
              "\n",
              "  .colab-df-quickchart:hover {\n",
              "    background-color: var(--hover-bg-color);\n",
              "    box-shadow: 0 1px 2px rgba(60, 64, 67, 0.3), 0 1px 3px 1px rgba(60, 64, 67, 0.15);\n",
              "    fill: var(--button-hover-fill-color);\n",
              "  }\n",
              "\n",
              "  .colab-df-quickchart-complete:disabled,\n",
              "  .colab-df-quickchart-complete:disabled:hover {\n",
              "    background-color: var(--disabled-bg-color);\n",
              "    fill: var(--disabled-fill-color);\n",
              "    box-shadow: none;\n",
              "  }\n",
              "\n",
              "  .colab-df-spinner {\n",
              "    border: 2px solid var(--fill-color);\n",
              "    border-color: transparent;\n",
              "    border-bottom-color: var(--fill-color);\n",
              "    animation:\n",
              "      spin 1s steps(1) infinite;\n",
              "  }\n",
              "\n",
              "  @keyframes spin {\n",
              "    0% {\n",
              "      border-color: transparent;\n",
              "      border-bottom-color: var(--fill-color);\n",
              "      border-left-color: var(--fill-color);\n",
              "    }\n",
              "    20% {\n",
              "      border-color: transparent;\n",
              "      border-left-color: var(--fill-color);\n",
              "      border-top-color: var(--fill-color);\n",
              "    }\n",
              "    30% {\n",
              "      border-color: transparent;\n",
              "      border-left-color: var(--fill-color);\n",
              "      border-top-color: var(--fill-color);\n",
              "      border-right-color: var(--fill-color);\n",
              "    }\n",
              "    40% {\n",
              "      border-color: transparent;\n",
              "      border-right-color: var(--fill-color);\n",
              "      border-top-color: var(--fill-color);\n",
              "    }\n",
              "    60% {\n",
              "      border-color: transparent;\n",
              "      border-right-color: var(--fill-color);\n",
              "    }\n",
              "    80% {\n",
              "      border-color: transparent;\n",
              "      border-right-color: var(--fill-color);\n",
              "      border-bottom-color: var(--fill-color);\n",
              "    }\n",
              "    90% {\n",
              "      border-color: transparent;\n",
              "      border-bottom-color: var(--fill-color);\n",
              "    }\n",
              "  }\n",
              "</style>\n",
              "\n",
              "      <script>\n",
              "        async function quickchart(key) {\n",
              "          const quickchartButtonEl =\n",
              "            document.querySelector('#' + key + ' button');\n",
              "          quickchartButtonEl.disabled = true;  // To prevent multiple clicks.\n",
              "          quickchartButtonEl.classList.add('colab-df-spinner');\n",
              "          try {\n",
              "            const charts = await google.colab.kernel.invokeFunction(\n",
              "                'suggestCharts', [key], {});\n",
              "          } catch (error) {\n",
              "            console.error('Error during call to suggestCharts:', error);\n",
              "          }\n",
              "          quickchartButtonEl.classList.remove('colab-df-spinner');\n",
              "          quickchartButtonEl.classList.add('colab-df-quickchart-complete');\n",
              "        }\n",
              "        (() => {\n",
              "          let quickchartButtonEl =\n",
              "            document.querySelector('#df-031859be-a537-4948-a66d-626f2b18e79f button');\n",
              "          quickchartButtonEl.style.display =\n",
              "            google.colab.kernel.accessAllowed ? 'block' : 'none';\n",
              "        })();\n",
              "      </script>\n",
              "    </div>\n",
              "\n",
              "    </div>\n",
              "  </div>\n"
            ],
            "application/vnd.google.colaboratory.intrinsic+json": {
              "type": "dataframe",
              "variable_name": "outliers"
            }
          },
          "metadata": {},
          "execution_count": 209
        }
      ]
    },
    {
      "cell_type": "markdown",
      "source": [
        "Outliers detectados no siempre deben eliminarse: en precios de casas, un valor alto puede ser legítimo."
      ],
      "metadata": {
        "id": "kfHi2WNVEYFC"
      }
    },
    {
      "cell_type": "markdown",
      "source": [
        "## **4. Codificación de variables categóricas**"
      ],
      "metadata": {
        "id": "IGN_visEEaf-"
      }
    },
    {
      "cell_type": "markdown",
      "source": [
        "**4.1 One-Hot Encoding**"
      ],
      "metadata": {
        "id": "v_GifVYaEeuo"
      }
    },
    {
      "cell_type": "markdown",
      "source": [
        "Convierte categorías en columnas binarias."
      ],
      "metadata": {
        "id": "CKd5XhjsEiT2"
      }
    },
    {
      "cell_type": "code",
      "source": [
        "df = pd.get_dummies(df, columns=['Neighborhood'], drop_first=True)\n"
      ],
      "metadata": {
        "id": "Sfuj70K8EXy1"
      },
      "execution_count": 210,
      "outputs": []
    },
    {
      "cell_type": "markdown",
      "source": [
        "**4.2 Label Encoding**"
      ],
      "metadata": {
        "id": "uY7pEbOuEmP5"
      }
    },
    {
      "cell_type": "markdown",
      "source": [
        "Asigna un número entero a cada categoría (útil para variables ordinales)."
      ],
      "metadata": {
        "id": "K-gJoSiDEqJ-"
      }
    },
    {
      "cell_type": "code",
      "source": [
        "le = LabelEncoder()\n",
        "df['Street'] = le.fit_transform(df['Street'])\n"
      ],
      "metadata": {
        "id": "RejiPc_pEtje"
      },
      "execution_count": 211,
      "outputs": []
    },
    {
      "cell_type": "markdown",
      "source": [
        "**4.3 Target Encoding (avanzado, riesgo de data leakage)**"
      ],
      "metadata": {
        "id": "Rhd3IKs_Evk8"
      }
    },
    {
      "cell_type": "code",
      "source": [
        "te = ce.TargetEncoder(cols=['MSZoning'])\n",
        "df['MSZoning'] = te.fit_transform(df['MSZoning'], df['SalePrice'])\n"
      ],
      "metadata": {
        "id": "7hdJHoaKFCZf"
      },
      "execution_count": 212,
      "outputs": []
    },
    {
      "cell_type": "code",
      "source": [
        "df['MSZoning']"
      ],
      "metadata": {
        "colab": {
          "base_uri": "https://localhost:8080/",
          "height": 458
        },
        "id": "p18iwbEGYd2C",
        "outputId": "d3c2aac4-6fe3-4bbb-d75f-3c353fca257e"
      },
      "execution_count": 213,
      "outputs": [
        {
          "output_type": "execute_result",
          "data": {
            "text/plain": [
              "0       191004.994787\n",
              "1       191004.994787\n",
              "2       191004.994787\n",
              "3       191004.994787\n",
              "4       191004.994787\n",
              "            ...      \n",
              "1455    191004.994787\n",
              "1456    191004.994787\n",
              "1457    191004.994787\n",
              "1458    191004.994787\n",
              "1459    191004.994787\n",
              "Name: MSZoning, Length: 1460, dtype: float64"
            ],
            "text/html": [
              "<div>\n",
              "<style scoped>\n",
              "    .dataframe tbody tr th:only-of-type {\n",
              "        vertical-align: middle;\n",
              "    }\n",
              "\n",
              "    .dataframe tbody tr th {\n",
              "        vertical-align: top;\n",
              "    }\n",
              "\n",
              "    .dataframe thead th {\n",
              "        text-align: right;\n",
              "    }\n",
              "</style>\n",
              "<table border=\"1\" class=\"dataframe\">\n",
              "  <thead>\n",
              "    <tr style=\"text-align: right;\">\n",
              "      <th></th>\n",
              "      <th>MSZoning</th>\n",
              "    </tr>\n",
              "  </thead>\n",
              "  <tbody>\n",
              "    <tr>\n",
              "      <th>0</th>\n",
              "      <td>191004.994787</td>\n",
              "    </tr>\n",
              "    <tr>\n",
              "      <th>1</th>\n",
              "      <td>191004.994787</td>\n",
              "    </tr>\n",
              "    <tr>\n",
              "      <th>2</th>\n",
              "      <td>191004.994787</td>\n",
              "    </tr>\n",
              "    <tr>\n",
              "      <th>3</th>\n",
              "      <td>191004.994787</td>\n",
              "    </tr>\n",
              "    <tr>\n",
              "      <th>4</th>\n",
              "      <td>191004.994787</td>\n",
              "    </tr>\n",
              "    <tr>\n",
              "      <th>...</th>\n",
              "      <td>...</td>\n",
              "    </tr>\n",
              "    <tr>\n",
              "      <th>1455</th>\n",
              "      <td>191004.994787</td>\n",
              "    </tr>\n",
              "    <tr>\n",
              "      <th>1456</th>\n",
              "      <td>191004.994787</td>\n",
              "    </tr>\n",
              "    <tr>\n",
              "      <th>1457</th>\n",
              "      <td>191004.994787</td>\n",
              "    </tr>\n",
              "    <tr>\n",
              "      <th>1458</th>\n",
              "      <td>191004.994787</td>\n",
              "    </tr>\n",
              "    <tr>\n",
              "      <th>1459</th>\n",
              "      <td>191004.994787</td>\n",
              "    </tr>\n",
              "  </tbody>\n",
              "</table>\n",
              "<p>1460 rows × 1 columns</p>\n",
              "</div><br><label><b>dtype:</b> float64</label>"
            ]
          },
          "metadata": {},
          "execution_count": 213
        }
      ]
    },
    {
      "cell_type": "markdown",
      "source": [
        "## **5. Discretización de variables continuas**"
      ],
      "metadata": {
        "id": "X0ab3bcnFAvD"
      }
    },
    {
      "cell_type": "markdown",
      "source": [
        "Reduce una variable continua a intervalos o “bins”."
      ],
      "metadata": {
        "id": "ewKvr5H6FNm4"
      }
    },
    {
      "cell_type": "code",
      "source": [
        "from sklearn.preprocessing import KBinsDiscretizer\n",
        "\n",
        "kb = KBinsDiscretizer(n_bins=4, encode='ordinal', strategy='quantile')\n",
        "df['SalePrice_bin'] = kb.fit_transform(df[['SalePrice']])\n"
      ],
      "metadata": {
        "id": "shmTS8BYFPrB"
      },
      "execution_count": 214,
      "outputs": []
    },
    {
      "cell_type": "markdown",
      "source": [
        "Útil cuando queremos reducir la sensibilidad del modelo a variaciones pequeñas o cuando la variable tiene relación no lineal con la respuesta."
      ],
      "metadata": {
        "id": "tshixIFrFR0U"
      }
    },
    {
      "cell_type": "markdown",
      "source": [
        "## **6. Transformaciones numéricas avanzadas**\n"
      ],
      "metadata": {
        "id": "vYwqUX1MFX-W"
      }
    },
    {
      "cell_type": "markdown",
      "source": [
        "**6.1 Transformación logarítmica**\n"
      ],
      "metadata": {
        "id": "GJJz4adNFevl"
      }
    },
    {
      "cell_type": "markdown",
      "source": [
        "Reduce asimetría en variables sesgadas a la derecha."
      ],
      "metadata": {
        "id": "woGSnf5HFhCk"
      }
    },
    {
      "cell_type": "code",
      "source": [
        "import numpy as np\n",
        "df['SalePrice_log'] = np.log1p(df['SalePrice'])\n"
      ],
      "metadata": {
        "id": "VSRezZDPFT4T"
      },
      "execution_count": 215,
      "outputs": []
    },
    {
      "cell_type": "markdown",
      "source": [
        "**6.2 Min–Max Scaling**"
      ],
      "metadata": {
        "id": "IaOe8H9BFlGV"
      }
    },
    {
      "cell_type": "markdown",
      "source": [
        "Escala los valores a un rango fijo [0, 1]."
      ],
      "metadata": {
        "id": "hDibuBr-FoH2"
      }
    },
    {
      "cell_type": "code",
      "source": [
        "from sklearn.preprocessing import MinMaxScaler\n",
        "\n",
        "mm_scaler = MinMaxScaler()\n",
        "df[['LotArea_mm', 'GrLivArea_mm']] = mm_scaler.fit_transform(df[['LotArea', 'GrLivArea']])\n"
      ],
      "metadata": {
        "id": "nmzuSlhtFqJ6"
      },
      "execution_count": 216,
      "outputs": []
    },
    {
      "cell_type": "markdown",
      "source": [
        "**6.3 Z-score Standardization**"
      ],
      "metadata": {
        "id": "5Q5H-DXqFsWW"
      }
    },
    {
      "cell_type": "markdown",
      "source": [
        "Centra en media 0 y desv. estándar 1."
      ],
      "metadata": {
        "id": "9KvUsWuyF35x"
      }
    },
    {
      "cell_type": "code",
      "source": [
        "\n",
        "\n",
        "scaler = StandardScaler()\n",
        "df[['LotArea_z', 'GrLivArea_z']] = scaler.fit_transform(df[['LotArea', 'GrLivArea']])\n"
      ],
      "metadata": {
        "id": "MRPwT2naF6MY"
      },
      "execution_count": 217,
      "outputs": []
    },
    {
      "cell_type": "markdown",
      "source": [
        "**6.4 Transformaciones polinómicas**"
      ],
      "metadata": {
        "id": "jKK36L3iF_OS"
      }
    },
    {
      "cell_type": "markdown",
      "source": [
        "Genera nuevas variables como combinaciones polinómicas de las existentes."
      ],
      "metadata": {
        "id": "z0mIWmOWGCA0"
      }
    },
    {
      "cell_type": "code",
      "source": [
        "\n",
        "poly = PolynomialFeatures(degree=2, include_bias=False)\n",
        "poly_features = poly.fit_transform(df[['GrLivArea', 'LotArea']])\n",
        "poly_df = pd.DataFrame(poly_features, columns=poly.get_feature_names_out(['GrLivArea', 'LotArea']))\n",
        "\n",
        "df = pd.concat([df, poly_df], axis=1)\n"
      ],
      "metadata": {
        "id": "SfLO7bNfGETN"
      },
      "execution_count": 218,
      "outputs": []
    },
    {
      "cell_type": "markdown",
      "source": [
        "Útil para modelos lineales que no capturan interacciones o curvaturas de forma natural. Ojo: puede aumentar mucho la dimensionalidad."
      ],
      "metadata": {
        "id": "Ug8NmBR7GIhR"
      }
    },
    {
      "cell_type": "markdown",
      "source": [
        "## **7. Evaluación visual del impacto**\n"
      ],
      "metadata": {
        "id": "Do3Bbc7OGMCz"
      }
    },
    {
      "cell_type": "code",
      "source": [
        "\n",
        "fig, axes = plt.subplots(1, 2, figsize=(12,5))\n",
        "sns.histplot(df['SalePrice'], ax=axes[0], kde=True)\n",
        "axes[0].set_title(\"SalePrice Original\")\n",
        "sns.histplot(df['SalePrice_log'], ax=axes[1], kde=True)\n",
        "axes[1].set_title(\"SalePrice Log-Transformed\")\n",
        "plt.show()\n"
      ],
      "metadata": {
        "id": "lnQOCzgdGRXV",
        "colab": {
          "base_uri": "https://localhost:8080/",
          "height": 487
        },
        "outputId": "7132404a-a909-4e6c-d414-3b0e63137850"
      },
      "execution_count": 219,
      "outputs": [
        {
          "output_type": "display_data",
          "data": {
            "text/plain": [
              "<Figure size 1200x500 with 2 Axes>"
            ],
            "image/png": "[encoded data removed]"
          },
          "metadata": {}
        }
      ]
    },
    {
      "cell_type": "markdown",
      "source": [
        "## **Tarea**"
      ],
      "metadata": {
        "id": "WG27vB60GTUw"
      }
    },
    {
      "cell_type": "markdown",
      "source": [
        "- Identificar y corregir inconsistencias en otra columna categórica.\n",
        "\n",
        "- Imputar una variable numérica usando media, mediana y KNN, y comparar resultados.\n",
        "\n",
        "- Comparar One-Hot Encoding vs. Target Encoding en términos de número de columnas y posible overfitting.\n",
        "\n",
        "- Discretizar LotArea usando equal-width binning.\n",
        "\n",
        "- Generar transformaciones polinómicas de grado 3 para tres variables numéricas y evaluar cuántas columnas nuevas produce."
      ],
      "metadata": {
        "id": "eaZrVgTVGXFl"
      }
    },
    {
      "cell_type": "markdown",
      "source": [
        "### 1. Identificar y corregir inconsistencias en otra columna categórica\n",
        "\n",
        "El notebook original corrigió ```Neighborhood```. Vamos a inspeccionar y corregir Exterior1st, que representa el revestimiento exterior de la casa. A menudo, estas columnas tienen abreviaturas o entradas similares que pueden ser unificadas."
      ],
      "metadata": {
        "id": "m3GdY3x9alGZ"
      }
    },
    {
      "cell_type": "code",
      "source": [
        "print(\"Valores únicos en 'Exterior1st' ANTES de la corrección:\")\n",
        "print(df['Exterior1st'].value_counts())"
      ],
      "metadata": {
        "id": "MVnIJqopGh0N",
        "colab": {
          "base_uri": "https://localhost:8080/"
        },
        "outputId": "8d74c09d-413e-42b7-bc19-b7bd4ce1f23c"
      },
      "execution_count": 220,
      "outputs": [
        {
          "output_type": "stream",
          "name": "stdout",
          "text": [
            "Valores únicos en 'Exterior1st' ANTES de la corrección:\n",
            "Exterior1st\n",
            "VinylSd    515\n",
            "HdBoard    222\n",
            "MetalSd    220\n",
            "Wd Sdng    206\n",
            "Plywood    108\n",
            "CemntBd     61\n",
            "BrkFace     50\n",
            "WdShing     26\n",
            "Stucco      25\n",
            "AsbShng     20\n",
            "BrkComm      2\n",
            "Stone        2\n",
            "AsphShn      1\n",
            "ImStucc      1\n",
            "CBlock       1\n",
            "Name: count, dtype: int64\n"
          ]
        }
      ]
    },
    {
      "cell_type": "code",
      "source": [
        "# Diccionario para unificar valores\n",
        "correction_map = {\n",
        "    'Wd Sdng': 'WoodSiding',\n",
        "    'WdShing': 'WoodShingling',\n",
        "    'Brk Cmn': 'BrkComm',\n",
        "    'CemntBd': 'CementBoard'\n",
        "}\n",
        "\n",
        "df['Exterior1st'] = df['Exterior1st'].replace(correction_map)\n",
        "\n",
        "print(\"Valores únicos en 'Exterior1st' DESPUÉS de la corrección:\")\n",
        "print(df['Exterior1st'].value_counts())"
      ],
      "metadata": {
        "colab": {
          "base_uri": "https://localhost:8080/"
        },
        "id": "uz11WiOgayrH",
        "outputId": "cf883d73-4fd1-462d-872b-318ea7413dc9"
      },
      "execution_count": 221,
      "outputs": [
        {
          "output_type": "stream",
          "name": "stdout",
          "text": [
            "Valores únicos en 'Exterior1st' DESPUÉS de la corrección:\n",
            "Exterior1st\n",
            "VinylSd          515\n",
            "HdBoard          222\n",
            "MetalSd          220\n",
            "WoodSiding       206\n",
            "Plywood          108\n",
            "CementBoard       61\n",
            "BrkFace           50\n",
            "WoodShingling     26\n",
            "Stucco            25\n",
            "AsbShng           20\n",
            "BrkComm            2\n",
            "Stone              2\n",
            "AsphShn            1\n",
            "ImStucc            1\n",
            "CBlock             1\n",
            "Name: count, dtype: int64\n"
          ]
        }
      ]
    },
    {
      "cell_type": "markdown",
      "source": [
        "Hemos estandarizado los nombres de las categorías en ```Exterior1st```, lo que evitará que el modelo las trate como características distintas."
      ],
      "metadata": {
        "id": "FcCF1lXTbEH7"
      }
    },
    {
      "cell_type": "markdown",
      "source": [
        "###2. Imputar una variable numérica y comparar resultados\n",
        "\n",
        "Vamos a imputar los valores faltantes en ```GarageYrBlt``` (año de construcción del garaje) usando tres estrategias: media, mediana y KNN."
      ],
      "metadata": {
        "id": "RjSD0MsrbH8h"
      }
    },
    {
      "cell_type": "code",
      "source": [
        "# Copiamos el dataframe para no alterar el original en cada prueba\n",
        "df_mean = df.copy()\n",
        "df_median = df.copy()\n",
        "df_knn = df.copy()\n",
        "\n",
        "# Imputación con Media\n",
        "imputer_mean = SimpleImputer(strategy='mean')\n",
        "df_mean['GarageYrBlt'] = imputer_mean.fit_transform(df_mean[['GarageYrBlt']])\n",
        "\n",
        "# Imputación con Mediana\n",
        "imputer_median = SimpleImputer(strategy='median')\n",
        "df_median['GarageYrBlt'] = imputer_median.fit_transform(df_median[['GarageYrBlt']])\n",
        "\n",
        "# Imputación con KNN\n",
        "imputer_knn = KNNImputer(n_neighbors=5) # 5 vecinos es un valor común\n",
        "df_knn['GarageYrBlt'] = imputer_knn.fit_transform(df_knn[['GarageYrBlt']]) # Usando solo la misma columna\n",
        "\n",
        "print(\"Estadísticas de 'GarageYrBlt' Original (sin nulos):\")\n",
        "print(df['GarageYrBlt'].dropna().describe())"
      ],
      "metadata": {
        "colab": {
          "base_uri": "https://localhost:8080/"
        },
        "id": "ibQfMfDzbPXq",
        "outputId": "a08cfdf1-4cff-4dc3-e21a-dd0898e22057"
      },
      "execution_count": 222,
      "outputs": [
        {
          "output_type": "stream",
          "name": "stdout",
          "text": [
            "Estadísticas de 'GarageYrBlt' Original (sin nulos):\n",
            "count    1379.000000\n",
            "mean     1978.506164\n",
            "std        24.689725\n",
            "min      1900.000000\n",
            "25%      1961.000000\n",
            "50%      1980.000000\n",
            "75%      2002.000000\n",
            "max      2010.000000\n",
            "Name: GarageYrBlt, dtype: float64\n"
          ]
        }
      ]
    },
    {
      "cell_type": "code",
      "source": [
        "# Comparar las distribuciones visualmente\n",
        "fig, ax = plt.subplots(figsize=(12, 6))\n",
        "\n",
        "sns.kdeplot(df['GarageYrBlt'].dropna(), ax=ax, label='Original', linewidth=2, color='black', linestyle='--')\n",
        "sns.kdeplot(df_mean['GarageYrBlt'], ax=ax, label='Imputado con Media', linewidth=3)\n",
        "sns.kdeplot(df_median['GarageYrBlt'], ax=ax, label='Imputado con Mediana')\n",
        "sns.kdeplot(df_knn['GarageYrBlt'], ax=ax, label='Imputado con KNN', linestyle='--')\n",
        "\n",
        "ax.set_title(\"Comparación de Distribuciones de 'GarageYrBlt' Post-Imputación\")\n",
        "ax.legend()\n",
        "plt.show()\n",
        "\n",
        "print(\"\\nEstadísticas después de la imputación:\")\n",
        "print(\"Media:\", df_mean['GarageYrBlt'].describe())\n",
        "print(\"\\nMediana:\", df_median['GarageYrBlt'].describe())\n",
        "print(\"\\nKNN:\", df_knn['GarageYrBlt'].describe())"
      ],
      "metadata": {
        "colab": {
          "base_uri": "https://localhost:8080/",
          "height": 1000
        },
        "id": "lxfmUHa9bThM",
        "outputId": "796cb015-3aeb-4b91-9576-f23a9aed3966"
      },
      "execution_count": 223,
      "outputs": [
        {
          "output_type": "display_data",
          "data": {
            "text/plain": [
              "<Figure size 1200x600 with 1 Axes>"
            ],
            "image/png": "[encoded data removed]"
          },
          "metadata": {}
        },
        {
          "output_type": "stream",
          "name": "stdout",
          "text": [
            "\n",
            "Estadísticas después de la imputación:\n",
            "Media: count    1460.000000\n",
            "mean     1978.506164\n",
            "std        23.994583\n",
            "min      1900.000000\n",
            "25%      1962.000000\n",
            "50%      1978.506164\n",
            "75%      2001.000000\n",
            "max      2010.000000\n",
            "Name: GarageYrBlt, dtype: float64\n",
            "\n",
            "Mediana: count    1460.000000\n",
            "mean     1978.589041\n",
            "std        23.997022\n",
            "min      1900.000000\n",
            "25%      1962.000000\n",
            "50%      1980.000000\n",
            "75%      2001.000000\n",
            "max      2010.000000\n",
            "Name: GarageYrBlt, dtype: float64\n",
            "\n",
            "KNN: count    1460.000000\n",
            "mean     1978.506164\n",
            "std        23.994583\n",
            "min      1900.000000\n",
            "25%      1962.000000\n",
            "50%      1978.506164\n",
            "75%      2001.000000\n",
            "max      2010.000000\n",
            "Name: GarageYrBlt, dtype: float64\n"
          ]
        }
      ]
    },
    {
      "cell_type": "markdown",
      "source": [
        "* Media: Es sensible a outliers. Si la distribución es asimétrica, la media puede no ser representativa del valor central, lo que puede distorsionar ligeramente la distribución original.\n",
        "\n",
        "* Mediana: Es más robusta a outliers. Generalmente preserva mejor la forma de la distribución original si esta es asimétrica, como es el caso de ```GarageYrBlt```.\n",
        "\n",
        "* KNN Imputer: Intenta predecir el valor faltante basándose en los valores de sus \"vecinos\" más cercanos. Cuando se usa en una sola columna, su comportamiento es similar a la imputación por media, pero su verdadero poder radica en usar múltiples columnas para hacer una imputación más inteligente. Visualmente, en este caso simple, no ofrece una gran ventaja sobre la media o mediana."
      ],
      "metadata": {
        "id": "gjBAbyF6bvUt"
      }
    },
    {
      "cell_type": "markdown",
      "source": [
        "### 3. Comparar One-Hot Encoding vs. Target Encoding\n",
        "\n",
        "Usaremos la columna ```Neighborhood```, que tiene 25 categorías diferentes."
      ],
      "metadata": {
        "id": "wsApFt14b5Bw"
      }
    },
    {
      "cell_type": "code",
      "source": [
        "df_ohe = pd.get_dummies(df_original, columns=['Neighborhood'], drop_first=True)\n",
        "ohe_cols = df_ohe.shape[1] - df_original.shape[1] + 1 # +1 para contar la columna eliminada\n",
        "\n",
        "print(f\"One-Hot Encoding:\")\n",
        "print(f\"  - Shape original del DataFrame: {df.shape}\")\n",
        "print(f\"  - Shape después de OHE: {df_ohe.shape}\")\n",
        "print(f\"  - Nuevas columnas creadas: {ohe_cols} (25 categorías -> 24 columnas nuevas)\")"
      ],
      "metadata": {
        "colab": {
          "base_uri": "https://localhost:8080/"
        },
        "id": "SlU0UsZqcAGL",
        "outputId": "3350095c-fc0e-4b79-e914-201b571123ca"
      },
      "execution_count": 224,
      "outputs": [
        {
          "output_type": "stream",
          "name": "stdout",
          "text": [
            "One-Hot Encoding:\n",
            "  - Shape original del DataFrame: (1460, 115)\n",
            "  - Shape después de OHE: (1460, 104)\n",
            "  - Nuevas columnas creadas: 24 (25 categorías -> 24 columnas nuevas)\n"
          ]
        }
      ]
    },
    {
      "cell_type": "code",
      "source": [
        "df_te = df_original.copy()\n",
        "target_encoder = ce.TargetEncoder(cols=['Neighborhood'])\n",
        "df_te['Neighborhood_encoded'] = target_encoder.fit_transform(df_te['Neighborhood'], df_te['SalePrice'])\n",
        "\n",
        "print(f\"\\nTarget Encoding:\")\n",
        "print(f\"  - Shape original del DataFrame: {df_original.shape}\")\n",
        "print(f\"  - Shape después de Target Encoding: {df_te.shape}\")\n",
        "print(f\"  - Nuevas columnas creadas: 1\")\n",
        "print(\"\\nEjemplo de la columna transformada con Target Encoding:\")\n",
        "print(df_te[['Neighborhood', 'Neighborhood_encoded', 'SalePrice']].head())"
      ],
      "metadata": {
        "colab": {
          "base_uri": "https://localhost:8080/"
        },
        "id": "p2LMZrX2cF8i",
        "outputId": "689a69e7-12e5-4628-966e-8dc3386b6ece"
      },
      "execution_count": 225,
      "outputs": [
        {
          "output_type": "stream",
          "name": "stdout",
          "text": [
            "\n",
            "Target Encoding:\n",
            "  - Shape original del DataFrame: (1460, 81)\n",
            "  - Shape después de Target Encoding: (1460, 82)\n",
            "  - Nuevas columnas creadas: 1\n",
            "\n",
            "Ejemplo de la columna transformada con Target Encoding:\n",
            "  Neighborhood  Neighborhood_encoded  SalePrice\n",
            "0      CollgCr         197965.734807     208500\n",
            "1      Veenker         197643.209810     181500\n",
            "2      CollgCr         197965.734807     223500\n",
            "3      Crawfor         209344.287867     140000\n",
            "4      NoRidge         318453.591177     250000\n"
          ]
        }
      ]
    },
    {
      "cell_type": "markdown",
      "source": [
        "OHE es más seguro pero puede crear demasiadas columnas (maldición de la dimensionalidad). Target Encoding es potente y compacto, pero debe usarse con cuidado para evitar el overfitting o data leakage."
      ],
      "metadata": {
        "id": "Ae9pvNp0ctUl"
      }
    },
    {
      "cell_type": "markdown",
      "source": [
        "### 4. Discretizar ```LotArea``` usando Equal-Width Binning\n",
        "\n",
        "\"Equal-width binning\" significa que el rango de cada contenedor es el mismo. En ```KBinsDiscretizer```, esto corresponde a la estrategia ```'uniform'```. Crearemos 5 contenedores."
      ],
      "metadata": {
        "id": "OM9BCatKc2-H"
      }
    },
    {
      "cell_type": "code",
      "source": [
        "from sklearn.preprocessing import KBinsDiscretizer\n",
        "\n",
        "# Inicializar el discretizador\n",
        "ew_binner = KBinsDiscretizer(n_bins=5, encode='ordinal', strategy='uniform')\n",
        "\n",
        "# Aplicar al DataFrame limpio, usando .ravel()\n",
        "df=df_original.copy()\n",
        "df['LotArea_ew_bin'] = ew_binner.fit_transform(df[['LotArea']]).ravel()\n",
        "\n",
        "# Verificar el resultado\n",
        "bin_edges = ew_binner.bin_edges_[0]\n",
        "print(\"Bordes de los contenedores (bins):\")\n",
        "for i in range(len(bin_edges)-1):\n",
        "    print(f\"  - Bin {i}: de {bin_edges[i]:.2f} a {bin_edges[i+1]:.2f}\")\n",
        "\n",
        "print(\"\\nEjemplo de los primeros 5 valores y sus bins:\")\n",
        "print(df[['LotArea', 'LotArea_ew_bin']].head())"
      ],
      "metadata": {
        "colab": {
          "base_uri": "https://localhost:8080/"
        },
        "id": "CpTLisg-c_Ru",
        "outputId": "cd863411-cb7a-4a78-9c0b-fbe7082276ff"
      },
      "execution_count": 226,
      "outputs": [
        {
          "output_type": "stream",
          "name": "stdout",
          "text": [
            "Bordes de los contenedores (bins):\n",
            "  - Bin 0: de 1300.00 a 44089.00\n",
            "  - Bin 1: de 44089.00 a 86878.00\n",
            "  - Bin 2: de 86878.00 a 129667.00\n",
            "  - Bin 3: de 129667.00 a 172456.00\n",
            "  - Bin 4: de 172456.00 a 215245.00\n",
            "\n",
            "Ejemplo de los primeros 5 valores y sus bins:\n",
            "   LotArea  LotArea_ew_bin\n",
            "0     8450             0.0\n",
            "1     9600             0.0\n",
            "2    11250             0.0\n",
            "3     9550             0.0\n",
            "4    14260             0.0\n"
          ]
        }
      ]
    },
    {
      "cell_type": "markdown",
      "source": [
        "Se ha convertido ```LotArea``` en una variable categórica ordinal donde cada categoría (0, 1, 2, 3, 4) representa un rango de área de igual tamaño. Esto puede ser útil si la relación entre el área y el precio no es lineal, sino que se comporta por \"tramos\". Sin embargo, puede sufrir si hay outliers, ya que un valor extremo puede crear un último bin muy grande y dejar los otros casi vacíos."
      ],
      "metadata": {
        "id": "30NfbkatgK6J"
      }
    },
    {
      "cell_type": "markdown",
      "source": [
        "### 5. Generar transformaciones polinómicas de grado 3\n",
        "\n",
        "Generaremos características polinómicas de grado 3 para tres variables numéricas importantes: ```GrLivArea```, ```OverallQual```, y ```YearBuilt```. Esto captura interacciones entre ellas (ej. ```GrLivArea * OverallQual```) y efectos no lineales (ej. ```YearBuilt^2```).\n"
      ],
      "metadata": {
        "id": "aZSRt1kddm-v"
      }
    },
    {
      "cell_type": "code",
      "source": [
        "from sklearn.preprocessing import PolynomialFeatures\n",
        "\n",
        "\n",
        "df=df_original.copy()\n",
        "features_for_poly = ['GrLivArea', 'OverallQual', 'YearBuilt']\n",
        "df_poly_features = df[features_for_poly]\n",
        "\n",
        "poly_transformer_new = PolynomialFeatures(degree=3, include_bias=False)\n",
        "poly_transformer_new.fit(df_poly_features)\n",
        "\n",
        "poly_feature_names = poly_transformer_new.get_feature_names_out(features_for_poly)\n",
        "\n",
        "print(f\"Número de variables originales: {len(features_for_poly)}\")\n",
        "print(f\"Número de nuevas características generadas (grado 3): {len(poly_feature_names)}\")\n",
        "print(\"\\nEjemplos de nombres de las nuevas características:\")\n",
        "print(poly_feature_names[:5])\n",
        "print(\"...\")\n",
        "print(poly_feature_names[-5:])"
      ],
      "metadata": {
        "colab": {
          "base_uri": "https://localhost:8080/"
        },
        "id": "Zn7mWUzMdy69",
        "outputId": "4b4a66b7-d119-42ad-ce6b-5896c0161fe5"
      },
      "execution_count": 227,
      "outputs": [
        {
          "output_type": "stream",
          "name": "stdout",
          "text": [
            "Número de variables originales: 3\n",
            "Número de nuevas características generadas (grado 3): 19\n",
            "\n",
            "Ejemplos de nombres de las nuevas características:\n",
            "['GrLivArea' 'OverallQual' 'YearBuilt' 'GrLivArea^2'\n",
            " 'GrLivArea OverallQual']\n",
            "...\n",
            "['GrLivArea YearBuilt^2' 'OverallQual^3' 'OverallQual^2 YearBuilt'\n",
            " 'OverallQual YearBuilt^2' 'YearBuilt^3']\n"
          ]
        }
      ]
    },
    {
      "cell_type": "markdown",
      "source": [
        "Para 3 variables (```n=3```) y grado 3 (```d=3```), el número de características generadas es 19. Esto incluye los términos originales, sus potencias (```GrLivArea^2```, ```GrLivArea^3```), y todas las interacciones (```GrLivArea * OverallQual```, ```GrLivArea^2 * YearBuilt```, etc.)."
      ],
      "metadata": {
        "id": "2WV8Fx-WgVg4"
      }
    },
    {
      "cell_type": "markdown",
      "source": [
        "---\n",
        "\n",
        "# Gracias por completar este laboratorio!\n",
        "\n",
        "---\n"
      ],
      "metadata": {
        "id": "j0mT0c3WGPHM"
      }
    }
  ]
}