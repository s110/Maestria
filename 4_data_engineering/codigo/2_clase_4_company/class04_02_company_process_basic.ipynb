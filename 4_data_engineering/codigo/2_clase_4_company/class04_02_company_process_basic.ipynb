{
 "cells": [
  {
   "cell_type": "markdown",
   "metadata": {
    "application/vnd.databricks.v1+cell": {
     "cellMetadata": {},
     "inputWidgets": {},
     "nuid": "7fbe5e72-2860-400f-80e9-0ca7624f79be",
     "showTitle": false,
     "tableResultSettingsMap": {},
     "title": ""
    }
   },
   "source": [
    "# Datawarehousing"
   ]
  },
  {
   "cell_type": "code",
   "execution_count": 0,
   "metadata": {
    "application/vnd.databricks.v1+cell": {
     "cellMetadata": {
      "byteLimit": 2048000,
      "implicitDf": true,
      "rowLimit": 10000
     },
     "inputWidgets": {},
     "nuid": "8cfb6519-32ce-43dc-ba58-d535b801408e",
     "showTitle": false,
     "tableResultSettingsMap": {},
     "title": ""
    }
   },
   "outputs": [
    {
     "output_type": "display_data",
     "data": {
      "text/html": [
       "<style scoped>\n",
       "  .table-result-container {\n",
       "    max-height: 300px;\n",
       "    overflow: auto;\n",
       "  }\n",
       "  table, th, td {\n",
       "    border: 1px solid black;\n",
       "    border-collapse: collapse;\n",
       "  }\n",
       "  th, td {\n",
       "    padding: 5px;\n",
       "  }\n",
       "  th {\n",
       "    text-align: left;\n",
       "  }\n",
       "</style><div class='table-result-container'><table class='table-result'><thead style='background-color: white'><tr></tr></thead><tbody></tbody></table></div>"
      ]
     },
     "metadata": {
      "application/vnd.databricks.v1+output": {
       "addedWidgets": {},
       "aggData": [],
       "aggError": "",
       "aggOverflow": false,
       "aggSchema": [],
       "aggSeriesLimitReached": false,
       "aggType": "",
       "arguments": {},
       "columnCustomDisplayInfos": {},
       "data": [],
       "datasetInfos": [],
       "dbfsResultPath": null,
       "isJsonSchema": true,
       "metadata": {},
       "overflow": false,
       "plotOptions": {
        "customPlotOptions": {},
        "displayType": "table",
        "pivotAggregation": null,
        "pivotColumns": null,
        "xColumns": null,
        "yColumns": null
       },
       "removedWidgets": [],
       "schema": [],
       "type": "table"
      }
     },
     "output_type": "display_data"
    }
   ],
   "source": [
    "%sql\n",
    "-- Limpiando la base de datos\n",
    "DROP DATABASE IF EXISTS company.sales_dwh CASCADE"
   ]
  },
  {
   "cell_type": "code",
   "execution_count": 0,
   "metadata": {
    "application/vnd.databricks.v1+cell": {
     "cellMetadata": {
      "byteLimit": 2048000,
      "implicitDf": true,
      "rowLimit": 10000
     },
     "inputWidgets": {},
     "nuid": "4b313c37-e849-48d9-a96d-a23c60dd7190",
     "showTitle": false,
     "tableResultSettingsMap": {},
     "title": ""
    }
   },
   "outputs": [
    {
     "output_type": "display_data",
     "data": {
      "text/html": [
       "<style scoped>\n",
       "  .table-result-container {\n",
       "    max-height: 300px;\n",
       "    overflow: auto;\n",
       "  }\n",
       "  table, th, td {\n",
       "    border: 1px solid black;\n",
       "    border-collapse: collapse;\n",
       "  }\n",
       "  th, td {\n",
       "    padding: 5px;\n",
       "  }\n",
       "  th {\n",
       "    text-align: left;\n",
       "  }\n",
       "</style><div class='table-result-container'><table class='table-result'><thead style='background-color: white'><tr></tr></thead><tbody></tbody></table></div>"
      ]
     },
     "metadata": {
      "application/vnd.databricks.v1+output": {
       "addedWidgets": {},
       "aggData": [],
       "aggError": "",
       "aggOverflow": false,
       "aggSchema": [],
       "aggSeriesLimitReached": false,
       "aggType": "",
       "arguments": {},
       "columnCustomDisplayInfos": {},
       "data": [],
       "datasetInfos": [],
       "dbfsResultPath": null,
       "isJsonSchema": true,
       "metadata": {},
       "overflow": false,
       "plotOptions": {
        "customPlotOptions": {},
        "displayType": "table",
        "pivotAggregation": null,
        "pivotColumns": null,
        "xColumns": null,
        "yColumns": null
       },
       "removedWidgets": [],
       "schema": [],
       "type": "table"
      }
     },
     "output_type": "display_data"
    }
   ],
   "source": [
    "%sql\n",
    "CREATE DATABASE company.sales_dwh"
   ]
  },
  {
   "cell_type": "markdown",
   "metadata": {
    "application/vnd.databricks.v1+cell": {
     "cellMetadata": {},
     "inputWidgets": {},
     "nuid": "d9b7740e-01b8-4a3c-8225-375ef16e5bda",
     "showTitle": false,
     "tableResultSettingsMap": {},
     "title": ""
    }
   },
   "source": [
    "### Stagging Layer"
   ]
  },
  {
   "cell_type": "code",
   "execution_count": 0,
   "metadata": {
    "application/vnd.databricks.v1+cell": {
     "cellMetadata": {
      "byteLimit": 2048000,
      "implicitDf": true,
      "rowLimit": 10000
     },
     "inputWidgets": {},
     "nuid": "235548ec-5f99-44a4-80e8-568b784b071c",
     "showTitle": false,
     "tableResultSettingsMap": {},
     "title": ""
    }
   },
   "outputs": [
    {
     "output_type": "display_data",
     "data": {
      "text/html": [
       "<style scoped>\n",
       "  .table-result-container {\n",
       "    max-height: 300px;\n",
       "    overflow: auto;\n",
       "  }\n",
       "  table, th, td {\n",
       "    border: 1px solid black;\n",
       "    border-collapse: collapse;\n",
       "  }\n",
       "  th, td {\n",
       "    padding: 5px;\n",
       "  }\n",
       "  th {\n",
       "    text-align: left;\n",
       "  }\n",
       "</style><div class='table-result-container'><table class='table-result'><thead style='background-color: white'><tr><th>num_affected_rows</th><th>num_inserted_rows</th></tr></thead><tbody></tbody></table></div>"
      ]
     },
     "metadata": {
      "application/vnd.databricks.v1+output": {
       "addedWidgets": {},
       "aggData": [],
       "aggError": "",
       "aggOverflow": false,
       "aggSchema": [],
       "aggSeriesLimitReached": false,
       "aggType": "",
       "arguments": {},
       "columnCustomDisplayInfos": {},
       "data": [],
       "datasetInfos": [],
       "dbfsResultPath": null,
       "isJsonSchema": true,
       "metadata": {},
       "overflow": false,
       "plotOptions": {
        "customPlotOptions": {},
        "displayType": "table",
        "pivotAggregation": null,
        "pivotColumns": null,
        "xColumns": null,
        "yColumns": null
       },
       "removedWidgets": [],
       "schema": [
        {
         "metadata": "{}",
         "name": "num_affected_rows",
         "type": "\"long\"",
         "typeName": "LONG",
         "typeText": "BIGINT"
        },
        {
         "metadata": "{}",
         "name": "num_inserted_rows",
         "type": "\"long\"",
         "typeName": "LONG",
         "typeText": "BIGINT"
        }
       ],
       "type": "table"
      }
     },
     "output_type": "display_data"
    }
   ],
   "source": [
    "%sql\n",
    "-- Initial Load\n",
    "CREATE OR REPLACE TABLE company.sales_dwh.stg_sales AS\n",
    "SELECT * FROM company.sales.orders"
   ]
  },
  {
   "cell_type": "markdown",
   "metadata": {
    "application/vnd.databricks.v1+cell": {
     "cellMetadata": {},
     "inputWidgets": {},
     "nuid": "d7b20b62-69a3-4424-813c-4b318f893496",
     "showTitle": false,
     "tableResultSettingsMap": {},
     "title": ""
    }
   },
   "source": [
    "### Transformations"
   ]
  },
  {
   "cell_type": "code",
   "execution_count": 0,
   "metadata": {
    "application/vnd.databricks.v1+cell": {
     "cellMetadata": {
      "byteLimit": 2048000,
      "implicitDf": true,
      "rowLimit": 10000
     },
     "inputWidgets": {},
     "nuid": "9af9fd4d-0b92-48ee-91f4-8e9a53095177",
     "showTitle": false,
     "tableResultSettingsMap": {},
     "title": ""
    }
   },
   "outputs": [
    {
     "output_type": "display_data",
     "data": {
      "text/html": [
       "<style scoped>\n",
       "  .table-result-container {\n",
       "    max-height: 300px;\n",
       "    overflow: auto;\n",
       "  }\n",
       "  table, th, td {\n",
       "    border: 1px solid black;\n",
       "    border-collapse: collapse;\n",
       "  }\n",
       "  th, td {\n",
       "    padding: 5px;\n",
       "  }\n",
       "  th {\n",
       "    text-align: left;\n",
       "  }\n",
       "</style><div class='table-result-container'><table class='table-result'><thead style='background-color: white'><tr></tr></thead><tbody></tbody></table></div>"
      ]
     },
     "metadata": {
      "application/vnd.databricks.v1+output": {
       "addedWidgets": {},
       "aggData": [],
       "aggError": "",
       "aggOverflow": false,
       "aggSchema": [],
       "aggSeriesLimitReached": false,
       "aggType": "",
       "arguments": {},
       "columnCustomDisplayInfos": {},
       "data": [],
       "datasetInfos": [],
       "dbfsResultPath": null,
       "isJsonSchema": true,
       "metadata": {},
       "overflow": false,
       "plotOptions": {
        "customPlotOptions": {},
        "displayType": "table",
        "pivotAggregation": null,
        "pivotColumns": null,
        "xColumns": null,
        "yColumns": null
       },
       "removedWidgets": [],
       "schema": [],
       "type": "table"
      }
     },
     "output_type": "display_data"
    }
   ],
   "source": [
    "%sql\n",
    "CREATE OR REPLACE VIEW company.sales_dwh.trans_sales\n",
    "As\n",
    "SELECT * FROM company.sales_dwh.stg_sales\n",
    "WHERE Quantity IS NOT NULL;"
   ]
  },
  {
   "cell_type": "markdown",
   "metadata": {
    "application/vnd.databricks.v1+cell": {
     "cellMetadata": {},
     "inputWidgets": {},
     "nuid": "38563503-9bbd-4fc5-982c-0468e3974e37",
     "showTitle": false,
     "tableResultSettingsMap": {},
     "title": ""
    }
   },
   "source": [
    "### Core Layer"
   ]
  },
  {
   "cell_type": "code",
   "execution_count": 0,
   "metadata": {
    "application/vnd.databricks.v1+cell": {
     "cellMetadata": {
      "byteLimit": 2048000,
      "implicitDf": true,
      "rowLimit": 10000
     },
     "inputWidgets": {},
     "nuid": "2122e072-7562-4b21-8078-081e75f6f4bf",
     "showTitle": false,
     "tableResultSettingsMap": {},
     "title": ""
    }
   },
   "outputs": [
    {
     "output_type": "display_data",
     "data": {
      "text/html": [
       "<style scoped>\n",
       "  .table-result-container {\n",
       "    max-height: 300px;\n",
       "    overflow: auto;\n",
       "  }\n",
       "  table, th, td {\n",
       "    border: 1px solid black;\n",
       "    border-collapse: collapse;\n",
       "  }\n",
       "  th, td {\n",
       "    padding: 5px;\n",
       "  }\n",
       "  th {\n",
       "    text-align: left;\n",
       "  }\n",
       "</style><div class='table-result-container'><table class='table-result'><thead style='background-color: white'><tr><th>num_affected_rows</th><th>num_inserted_rows</th></tr></thead><tbody></tbody></table></div>"
      ]
     },
     "metadata": {
      "application/vnd.databricks.v1+output": {
       "addedWidgets": {},
       "aggData": [],
       "aggError": "",
       "aggOverflow": false,
       "aggSchema": [],
       "aggSeriesLimitReached": false,
       "aggType": "",
       "arguments": {},
       "columnCustomDisplayInfos": {},
       "data": [],
       "datasetInfos": [],
       "dbfsResultPath": null,
       "isJsonSchema": true,
       "metadata": {},
       "overflow": false,
       "plotOptions": {
        "customPlotOptions": {},
        "displayType": "table",
        "pivotAggregation": null,
        "pivotColumns": null,
        "xColumns": null,
        "yColumns": null
       },
       "removedWidgets": [],
       "schema": [
        {
         "metadata": "{}",
         "name": "num_affected_rows",
         "type": "\"long\"",
         "typeName": "LONG",
         "typeText": "BIGINT"
        },
        {
         "metadata": "{}",
         "name": "num_inserted_rows",
         "type": "\"long\"",
         "typeName": "LONG",
         "typeText": "BIGINT"
        }
       ],
       "type": "table"
      }
     },
     "output_type": "display_data"
    }
   ],
   "source": [
    "%sql\n",
    "CREATE OR REPLACE TABLE company.sales_dwh.core_sales AS\n",
    "SELECT * FROM company.sales_dwh.trans_sales"
   ]
  },
  {
   "cell_type": "code",
   "execution_count": 0,
   "metadata": {
    "application/vnd.databricks.v1+cell": {
     "cellMetadata": {
      "byteLimit": 2048000,
      "implicitDf": true,
      "rowLimit": 10000
     },
     "inputWidgets": {},
     "nuid": "d16eecc0-320c-4020-83ae-b8cf8e9ac21f",
     "showTitle": false,
     "tableResultSettingsMap": {},
     "title": ""
    }
   },
   "outputs": [
    {
     "output_type": "display_data",
     "data": {
      "text/html": [
       "<style scoped>\n",
       "  .table-result-container {\n",
       "    max-height: 300px;\n",
       "    overflow: auto;\n",
       "  }\n",
       "  table, th, td {\n",
       "    border: 1px solid black;\n",
       "    border-collapse: collapse;\n",
       "  }\n",
       "  th, td {\n",
       "    padding: 5px;\n",
       "  }\n",
       "  th {\n",
       "    text-align: left;\n",
       "  }\n",
       "</style><div class='table-result-container'><table class='table-result'><thead style='background-color: white'><tr><th>OrderID</th><th>OrderDate</th><th>CustomerID</th><th>CustomerName</th><th>CustomerEmail</th><th>ProductID</th><th>ProductName</th><th>ProductCategory</th><th>RegionID</th><th>RegionName</th><th>Country</th><th>Quantity</th><th>UnitPrice</th><th>TotalAmount</th></tr></thead><tbody><tr><td>1</td><td>2024-02-01</td><td>101</td><td>Alice Johnson</td><td>alice@example.com</td><td>201</td><td>Laptop</td><td>Electronics</td><td>301</td><td>North America</td><td>USA</td><td>2</td><td>800.00</td><td>1600.00</td></tr><tr><td>2</td><td>2024-02-02</td><td>102</td><td>Bob Smith</td><td>bob@example.com</td><td>202</td><td>Smartphone</td><td>Electronics</td><td>302</td><td>Europe</td><td>Germany</td><td>1</td><td>500.00</td><td>500.00</td></tr><tr><td>3</td><td>2024-02-03</td><td>103</td><td>Charlie Brown</td><td>charlie@example.com</td><td>203</td><td>Tablet</td><td>Electronics</td><td>303</td><td>Asia</td><td>India</td><td>3</td><td>300.00</td><td>900.00</td></tr><tr><td>4</td><td>2024-02-04</td><td>101</td><td>Alice Johnson</td><td>alice@example.com</td><td>204</td><td>Headphones</td><td>Accessories</td><td>301</td><td>North America</td><td>USA</td><td>1</td><td>150.00</td><td>150.00</td></tr><tr><td>5</td><td>2024-02-05</td><td>104</td><td>David Lee</td><td>david@example.com</td><td>205</td><td>Gaming Console</td><td>Electronics</td><td>302</td><td>Europe</td><td>France</td><td>1</td><td>400.00</td><td>400.00</td></tr><tr><td>6</td><td>2024-02-06</td><td>102</td><td>Bob Smith</td><td>bob@example.com</td><td>206</td><td>Smartwatch</td><td>Electronics</td><td>303</td><td>Asia</td><td>China</td><td>2</td><td>200.00</td><td>400.00</td></tr><tr><td>7</td><td>2024-02-07</td><td>105</td><td>Eve Adams</td><td>eve@example.com</td><td>201</td><td>Laptop</td><td>Electronics</td><td>301</td><td>North America</td><td>Canada</td><td>1</td><td>800.00</td><td>800.00</td></tr><tr><td>8</td><td>2024-02-08</td><td>106</td><td>Frank Miller</td><td>frank@example.com</td><td>207</td><td>Monitor</td><td>Accessories</td><td>302</td><td>Europe</td><td>Italy</td><td>2</td><td>250.00</td><td>500.00</td></tr><tr><td>9</td><td>2024-02-09</td><td>107</td><td>Grace White</td><td>grace@example.com</td><td>208</td><td>Keyboard</td><td>Accessories</td><td>303</td><td>Asia</td><td>Japan</td><td>3</td><td>100.00</td><td>300.00</td></tr><tr><td>10</td><td>2024-02-10</td><td>104</td><td>David Lee</td><td>david@example.com</td><td>209</td><td>Mouse</td><td>Accessories</td><td>301</td><td>North America</td><td>USA</td><td>1</td><td>50.00</td><td>50.00</td></tr></tbody></table></div>"
      ]
     },
     "metadata": {
      "application/vnd.databricks.v1+output": {
       "addedWidgets": {},
       "aggData": [],
       "aggError": "",
       "aggOverflow": false,
       "aggSchema": [],
       "aggSeriesLimitReached": false,
       "aggType": "",
       "arguments": {},
       "columnCustomDisplayInfos": {},
       "data": [
        [
         1,
         "2024-02-01",
         101,
         "Alice Johnson",
         "alice@example.com",
         201,
         "Laptop",
         "Electronics",
         301,
         "North America",
         "USA",
         2,
         "800.00",
         "1600.00"
        ],
        [
         2,
         "2024-02-02",
         102,
         "Bob Smith",
         "bob@example.com",
         202,
         "Smartphone",
         "Electronics",
         302,
         "Europe",
         "Germany",
         1,
         "500.00",
         "500.00"
        ],
        [
         3,
         "2024-02-03",
         103,
         "Charlie Brown",
         "charlie@example.com",
         203,
         "Tablet",
         "Electronics",
         303,
         "Asia",
         "India",
         3,
         "300.00",
         "900.00"
        ],
        [
         4,
         "2024-02-04",
         101,
         "Alice Johnson",
         "alice@example.com",
         204,
         "Headphones",
         "Accessories",
         301,
         "North America",
         "USA",
         1,
         "150.00",
         "150.00"
        ],
        [
         5,
         "2024-02-05",
         104,
         "David Lee",
         "david@example.com",
         205,
         "Gaming Console",
         "Electronics",
         302,
         "Europe",
         "France",
         1,
         "400.00",
         "400.00"
        ],
        [
         6,
         "2024-02-06",
         102,
         "Bob Smith",
         "bob@example.com",
         206,
         "Smartwatch",
         "Electronics",
         303,
         "Asia",
         "China",
         2,
         "200.00",
         "400.00"
        ],
        [
         7,
         "2024-02-07",
         105,
         "Eve Adams",
         "eve@example.com",
         201,
         "Laptop",
         "Electronics",
         301,
         "North America",
         "Canada",
         1,
         "800.00",
         "800.00"
        ],
        [
         8,
         "2024-02-08",
         106,
         "Frank Miller",
         "frank@example.com",
         207,
         "Monitor",
         "Accessories",
         302,
         "Europe",
         "Italy",
         2,
         "250.00",
         "500.00"
        ],
        [
         9,
         "2024-02-09",
         107,
         "Grace White",
         "grace@example.com",
         208,
         "Keyboard",
         "Accessories",
         303,
         "Asia",
         "Japan",
         3,
         "100.00",
         "300.00"
        ],
        [
         10,
         "2024-02-10",
         104,
         "David Lee",
         "david@example.com",
         209,
         "Mouse",
         "Accessories",
         301,
         "North America",
         "USA",
         1,
         "50.00",
         "50.00"
        ]
       ],
       "datasetInfos": [],
       "dbfsResultPath": null,
       "isJsonSchema": true,
       "metadata": {},
       "overflow": false,
       "plotOptions": {
        "customPlotOptions": {},
        "displayType": "table",
        "pivotAggregation": null,
        "pivotColumns": null,
        "xColumns": null,
        "yColumns": null
       },
       "removedWidgets": [],
       "schema": [
        {
         "metadata": "{}",
         "name": "OrderID",
         "type": "\"integer\"",
         "typeName": "INT",
         "typeText": "INT"
        },
        {
         "metadata": "{}",
         "name": "OrderDate",
         "type": "\"date\"",
         "typeName": "DATE",
         "typeText": "DATE"
        },
        {
         "metadata": "{}",
         "name": "CustomerID",
         "type": "\"integer\"",
         "typeName": "INT",
         "typeText": "INT"
        },
        {
         "metadata": "{}",
         "name": "CustomerName",
         "type": "\"string\"",
         "typeName": "STRING",
         "typeText": "STRING"
        },
        {
         "metadata": "{}",
         "name": "CustomerEmail",
         "type": "\"string\"",
         "typeName": "STRING",
         "typeText": "STRING"
        },
        {
         "metadata": "{}",
         "name": "ProductID",
         "type": "\"integer\"",
         "typeName": "INT",
         "typeText": "INT"
        },
        {
         "metadata": "{}",
         "name": "ProductName",
         "type": "\"string\"",
         "typeName": "STRING",
         "typeText": "STRING"
        },
        {
         "metadata": "{}",
         "name": "ProductCategory",
         "type": "\"string\"",
         "typeName": "STRING",
         "typeText": "STRING"
        },
        {
         "metadata": "{}",
         "name": "RegionID",
         "type": "\"integer\"",
         "typeName": "INT",
         "typeText": "INT"
        },
        {
         "metadata": "{}",
         "name": "RegionName",
         "type": "\"string\"",
         "typeName": "STRING",
         "typeText": "STRING"
        },
        {
         "metadata": "{}",
         "name": "Country",
         "type": "\"string\"",
         "typeName": "STRING",
         "typeText": "STRING"
        },
        {
         "metadata": "{}",
         "name": "Quantity",
         "type": "\"integer\"",
         "typeName": "INT",
         "typeText": "INT"
        },
        {
         "metadata": "{}",
         "name": "UnitPrice",
         "type": "\"decimal\"",
         "typeName": "DECIMAL",
         "typeText": "DECIMAL(10,2)"
        },
        {
         "metadata": "{}",
         "name": "TotalAmount",
         "type": "\"decimal\"",
         "typeName": "DECIMAL",
         "typeText": "DECIMAL(10,2)"
        }
       ],
       "type": "table"
      }
     },
     "output_type": "display_data"
    }
   ],
   "source": [
    "%sql\n",
    "SELECT * FROM company.sales_dwh.core_sales"
   ]
  }
 ],
 "metadata": {
  "application/vnd.databricks.v1+notebook": {
   "computePreferences": null,
   "dashboards": [],
   "environmentMetadata": {
    "base_environment": "",
    "environment_version": "1"
   },
   "inputWidgetPreferences": null,
   "language": "python",
   "notebookMetadata": {
    "mostRecentlyExecutedCommandWithImplicitDF": {
     "commandId": 994196295075190,
     "dataframes": [
      "_sqldf"
     ]
    },
    "pythonIndentUnit": 4
   },
   "notebookName": "class04_02_company_process_basic",
   "widgets": {}
  },
  "language_info": {
   "name": "python"
  }
 },
 "nbformat": 4,
 "nbformat_minor": 0
}